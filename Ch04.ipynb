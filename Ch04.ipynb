{
 "cells": [
  {
   "cell_type": "code",
   "execution_count": 1,
   "metadata": {
    "collapsed": true
   },
   "outputs": [],
   "source": [
    "import sqlite3\n",
    "from tools import *"
   ]
  },
  {
   "cell_type": "code",
   "execution_count": 2,
   "metadata": {
    "collapsed": false
   },
   "outputs": [],
   "source": [
    "conn = sqlite3.connect(\"clown.sql\")"
   ]
  },
  {
   "cell_type": "code",
   "execution_count": 3,
   "metadata": {
    "collapsed": false
   },
   "outputs": [
    {
     "name": "stdout",
     "output_type": "stream",
     "text": [
      "+------------+--------------+----------+----------+---------+-------+\n",
      "|Column      |Type          |Not NULL  |Column No.|Default  |Primal |\n",
      "+------------+--------------+----------+----------+---------+-------+\n",
      "|name        |VARCHAR(20)   |1         |0         |None     |0      |\n",
      "|last_seen   |VARCHAR(50)   |0         |1         |None     |0      |\n",
      "|appearance  |VARCHAR(50)   |0         |2         |None     |0      |\n",
      "|activities  |VARCHAR(30)   |0         |3         |None     |0      |\n",
      "+------------+--------------+----------+----------+---------+-------+\n"
     ]
    },
    {
     "data": {
      "text/plain": [
       "(0, ['name', 'last_seen', 'appearance', 'activities'])"
      ]
     },
     "execution_count": 3,
     "metadata": {},
     "output_type": "execute_result"
    }
   ],
   "source": [
    "table_info(conn, \"clown_info\")"
   ]
  },
  {
   "cell_type": "code",
   "execution_count": 4,
   "metadata": {
    "collapsed": false
   },
   "outputs": [
    {
     "name": "stdout",
     "output_type": "stream",
     "text": [
      "+------------+------------------+\n",
      "|name        |activities        |\n",
      "+------------+------------------+\n",
      "|Elsie       |ballons, little car|\n",
      "|Pickles     |mime              |\n",
      "|Snuggles    |horn, umbrella    |\n",
      "|Mr. Hobo    |violin            |\n",
      "|Clarabelle  |yelling, dancing  |\n",
      "|Scooter     |ballons           |\n",
      "|Babe        |balancing, little car|\n",
      "|Bonzo       |singing, dancing  |\n",
      "|Sniffles    |None              |\n",
      "+------------+------------------+\n"
     ]
    }
   ],
   "source": [
    "show(conn, \"SELECT name, activities FROM clown_info\")"
   ]
  },
  {
   "cell_type": "code",
   "execution_count": 5,
   "metadata": {
    "collapsed": false
   },
   "outputs": [],
   "source": [
    "conn = sqlite3.connect(\"try_sql.db\")"
   ]
  },
  {
   "cell_type": "code",
   "execution_count": 6,
   "metadata": {
    "collapsed": false
   },
   "outputs": [
    {
     "name": "stdout",
     "output_type": "stream",
     "text": [
      "+------------+--------------+----------+----------+---------+-------+\n",
      "|Column      |Type          |Not NULL  |Column No.|Default  |Primal |\n",
      "+------------+--------------+----------+----------+---------+-------+\n",
      "|contact_id  |INTEGER       |0         |0         |None     |1      |\n",
      "|last_name   |VARCHAR(30)   |0         |1         |NULL     |0      |\n",
      "|first_name  |VARCHAR(30)   |0         |2         |NULL     |0      |\n",
      "|email       |VARCHAR(50)   |0         |3         |NULL     |0      |\n",
      "|gender      |CHAR(1)       |0         |4         |NULL     |0      |\n",
      "|birthday    |DATE          |0         |5         |NULL     |0      |\n",
      "|profession  |VARCHAR(50)   |0         |6         |NULL     |0      |\n",
      "|location    |VARCHAR(50)   |0         |7         |NULL     |0      |\n",
      "|status      |VARCHAR(20)   |0         |8         |NULL     |0      |\n",
      "|interests   |VARCHAR(20)   |0         |9         |NULL     |0      |\n",
      "|seeking     |VARCHAR(100)  |0         |10        |NULL     |0      |\n",
      "+------------+--------------+----------+----------+---------+-------+\n"
     ]
    },
    {
     "data": {
      "text/plain": [
       "(0,\n",
       " ['contact_id',\n",
       "  'last_name',\n",
       "  'first_name',\n",
       "  'email',\n",
       "  'gender',\n",
       "  'birthday',\n",
       "  'profession',\n",
       "  'location',\n",
       "  'status',\n",
       "  'interests',\n",
       "  'seeking'])"
      ]
     },
     "execution_count": 6,
     "metadata": {},
     "output_type": "execute_result"
    }
   ],
   "source": [
    "table_info(conn, \"my_contacts\")"
   ]
  },
  {
   "cell_type": "code",
   "execution_count": 21,
   "metadata": {
    "collapsed": true
   },
   "outputs": [],
   "source": [
    "with conn:\n",
    "    c = conn.cursor()\n",
    "    c.execute(\n",
    "    \"\"\"\n",
    "    SELECT * FROM my_contacts;\n",
    "    \"\"\"\n",
    "    )\n",
    "    data = c.fetchall()"
   ]
  },
  {
   "cell_type": "code",
   "execution_count": 22,
   "metadata": {
    "collapsed": false
   },
   "outputs": [
    {
     "data": {
      "text/plain": [
       "[(1,\n",
       "  'Funyon',\n",
       "  'Steve',\n",
       "  'steve@gmail.com',\n",
       "  'M',\n",
       "  '1970-04-01',\n",
       "  'Punk',\n",
       "  \"Gover's Mill, NJ\",\n",
       "  'Single',\n",
       "  'smashing the state',\n",
       "  'compatriots, guitar players')]"
      ]
     },
     "execution_count": 22,
     "metadata": {},
     "output_type": "execute_result"
    }
   ],
   "source": [
    "data"
   ]
  },
  {
   "cell_type": "code",
   "execution_count": 11,
   "metadata": {
    "collapsed": true
   },
   "outputs": [],
   "source": [
    "with conn:\n",
    "    c = conn.cursor()\n",
    "    c.execute(\n",
    "    \"\"\"\n",
    "    DROP TABLE my_contacts;\n",
    "    \"\"\"\n",
    "    )"
   ]
  },
  {
   "cell_type": "code",
   "execution_count": 14,
   "metadata": {
    "collapsed": false
   },
   "outputs": [
    {
     "ename": "OperationalError",
     "evalue": "near \"%\": syntax error",
     "output_type": "error",
     "traceback": [
      "\u001b[0;31m---------------------------------------------------------------------------\u001b[0m",
      "\u001b[0;31mOperationalError\u001b[0m                          Traceback (most recent call last)",
      "\u001b[0;32m<ipython-input-14-84e396f93fbb>\u001b[0m in \u001b[0;36m<module>\u001b[0;34m()\u001b[0m\n\u001b[1;32m     19\u001b[0m     )\n\u001b[1;32m     20\u001b[0m     \u001b[0;32mfor\u001b[0m \u001b[0mr\u001b[0m \u001b[0;32min\u001b[0m \u001b[0mdata\u001b[0m\u001b[0;34m:\u001b[0m\u001b[0;34m\u001b[0m\u001b[0m\n\u001b[0;32m---> 21\u001b[0;31m         \u001b[0mc\u001b[0m\u001b[0;34m.\u001b[0m\u001b[0mexecute\u001b[0m\u001b[0;34m(\u001b[0m\u001b[0;34m\"INSERT INTO my_contacts VALUES %\"\u001b[0m\u001b[0;34m.\u001b[0m\u001b[0mformat\u001b[0m\u001b[0;34m(\u001b[0m\u001b[0mr\u001b[0m\u001b[0;34m)\u001b[0m\u001b[0;34m)\u001b[0m\u001b[0;34m\u001b[0m\u001b[0m\n\u001b[0m",
      "\u001b[0;31mOperationalError\u001b[0m: near \"%\": syntax error"
     ]
    }
   ],
   "source": [
    "with conn:\n",
    "    c = conn.cursor()\n",
    "    c.execute(\n",
    "    \"\"\"\n",
    "    CREATE TABLE my_contacts(\n",
    "    contact_id INTEGER PRIMARY KEY,\n",
    "    last_name VARCHAR(30) DEFAULT NULL,\n",
    "    first_name VARCHAR(30) DEFAULT NULL,\n",
    "    email VARCHAR(50) DEFAULT NULL,\n",
    "    gender CHAR(1) DEFAULT NULL,\n",
    "    birthday DATE DEFAULT NULL,\n",
    "    profession VARCHAR(50) DEFAULT NULL,\n",
    "    location VARCHAR(50) DEFAULT NULL,\n",
    "    status VARCHAR(20) DEFAULT NULL,\n",
    "    interests VARCHAR(20) DEFAULT NULL,\n",
    "    seeking VARCHAR(100) DEFAULT NULL\n",
    "    )\n",
    "    \"\"\"\n",
    "    )\n",
    "    for r in data:\n",
    "        c.execute(\"INSERT INTO my_contacts VALUES {0}\".format(r))"
   ]
  },
  {
   "cell_type": "code",
   "execution_count": 18,
   "metadata": {
    "collapsed": false
   },
   "outputs": [],
   "source": [
    "for r in data:\n",
    "    c.execute(\"INSERT INTO my_contacts (last_name, first_name, email, gender, birthday, profession, location, status, interests, seeking) VALUES {0}\".format(r))"
   ]
  },
  {
   "cell_type": "code",
   "execution_count": 19,
   "metadata": {
    "collapsed": true
   },
   "outputs": [],
   "source": [
    "conn.commit()"
   ]
  },
  {
   "cell_type": "code",
   "execution_count": 20,
   "metadata": {
    "collapsed": false
   },
   "outputs": [
    {
     "name": "stdout",
     "output_type": "stream",
     "text": [
      "+------------------+-----------------+------------------+-------------+--------------+----------------+------------------+----------------+--------------+-----------------+---------------+\n",
      "|contact_id        |last_name        |first_name        |email        |gender        |birthday        |profession        |location        |status        |interests        |seeking        |\n",
      "+------------------+-----------------+------------------+-------------+--------------+----------------+------------------+----------------+--------------+-----------------+---------------+\n",
      "|1                 |Funyon           |Steve             |steve@gmail.com|M             |1970-04-01      |Punk              |Gover's Mill, NJ|Single        |smashing the state|compatriots, guitar players|\n",
      "+------------------+-----------------+------------------+-------------+--------------+----------------+------------------+----------------+--------------+-----------------+---------------+\n"
     ]
    }
   ],
   "source": [
    "show(conn, \"SELECT * FROM my_contacts\")"
   ]
  },
  {
   "cell_type": "code",
   "execution_count": 8,
   "metadata": {
    "collapsed": false
   },
   "outputs": [
    {
     "name": "stdout",
     "output_type": "stream",
     "text": [
      "+------------+--------------+----------+----------+---------+-------+\n",
      "|Column      |Type          |Not NULL  |Column No.|Default  |Primal |\n",
      "+------------+--------------+----------+----------+---------+-------+\n",
      "|contact_id  |INTEGER       |0         |0         |None     |1      |\n",
      "|last_name   |VARCHAR(30)   |0         |1         |NULL     |0      |\n",
      "|first_name  |VARCHAR(30)   |0         |2         |NULL     |0      |\n",
      "|email       |VARCHAR(50)   |0         |3         |NULL     |0      |\n",
      "|gender      |CHAR(1)       |0         |4         |NULL     |0      |\n",
      "|birthday    |DATE          |0         |5         |NULL     |0      |\n",
      "|profession  |VARCHAR(50)   |0         |6         |NULL     |0      |\n",
      "|location    |VARCHAR(50)   |0         |7         |NULL     |0      |\n",
      "|status      |VARCHAR(20)   |0         |8         |NULL     |0      |\n",
      "|interests   |VARCHAR(20)   |0         |9         |NULL     |0      |\n",
      "|seeking     |VARCHAR(100)  |0         |10        |NULL     |0      |\n",
      "+------------+--------------+----------+----------+---------+-------+\n"
     ]
    },
    {
     "data": {
      "text/plain": [
       "(0,\n",
       " ['contact_id',\n",
       "  'last_name',\n",
       "  'first_name',\n",
       "  'email',\n",
       "  'gender',\n",
       "  'birthday',\n",
       "  'profession',\n",
       "  'location',\n",
       "  'status',\n",
       "  'interests',\n",
       "  'seeking'])"
      ]
     },
     "execution_count": 8,
     "metadata": {},
     "output_type": "execute_result"
    }
   ],
   "source": [
    "table_info(conn, \"my_contacts\")"
   ]
  },
  {
   "cell_type": "code",
   "execution_count": 9,
   "metadata": {
    "collapsed": true
   },
   "outputs": [],
   "source": [
    "conn = sqlite3.connect(\"clown.sql\")"
   ]
  },
  {
   "cell_type": "code",
   "execution_count": 10,
   "metadata": {
    "collapsed": true
   },
   "outputs": [],
   "source": [
    "c = conn.cursor()"
   ]
  },
  {
   "cell_type": "code",
   "execution_count": 11,
   "metadata": {
    "collapsed": false
   },
   "outputs": [
    {
     "name": "stdout",
     "output_type": "stream",
     "text": [
      "+------------+--------------+----------+----------+---------+-------+\n",
      "|Column      |Type          |Not NULL  |Column No.|Default  |Primal |\n",
      "+------------+--------------+----------+----------+---------+-------+\n",
      "|name        |VARCHAR(20)   |1         |0         |None     |0      |\n",
      "|last_seen   |VARCHAR(50)   |0         |1         |None     |0      |\n",
      "|appearance  |VARCHAR(50)   |0         |2         |None     |0      |\n",
      "|activities  |VARCHAR(30)   |0         |3         |None     |0      |\n",
      "+------------+--------------+----------+----------+---------+-------+\n"
     ]
    },
    {
     "data": {
      "text/plain": [
       "(0, ['name', 'last_seen', 'appearance', 'activities'])"
      ]
     },
     "execution_count": 11,
     "metadata": {},
     "output_type": "execute_result"
    }
   ],
   "source": [
    "table_info(conn, \"clown_info\")"
   ]
  },
  {
   "cell_type": "code",
   "execution_count": 13,
   "metadata": {
    "collapsed": false
   },
   "outputs": [
    {
     "data": {
      "text/plain": [
       "<sqlite3.Cursor at 0x1044c29d0>"
      ]
     },
     "execution_count": 13,
     "metadata": {},
     "output_type": "execute_result"
    }
   ],
   "source": [
    "c.execute(\n",
    "    \"\"\"\n",
    "    ALTER TABLE clown_info\n",
    "    ADD COLUMN test INT DEFAULT NULL;\n",
    "    \"\"\")"
   ]
  },
  {
   "cell_type": "code",
   "execution_count": 14,
   "metadata": {
    "collapsed": true
   },
   "outputs": [],
   "source": [
    "conn.commit()"
   ]
  },
  {
   "cell_type": "code",
   "execution_count": 15,
   "metadata": {
    "collapsed": false
   },
   "outputs": [
    {
     "name": "stdout",
     "output_type": "stream",
     "text": [
      "+------------+--------------+----------+----------+---------+-------+\n",
      "|Column      |Type          |Not NULL  |Column No.|Default  |Primal |\n",
      "+------------+--------------+----------+----------+---------+-------+\n",
      "|name        |VARCHAR(20)   |1         |0         |None     |0      |\n",
      "|last_seen   |VARCHAR(50)   |0         |1         |None     |0      |\n",
      "|appearance  |VARCHAR(50)   |0         |2         |None     |0      |\n",
      "|activities  |VARCHAR(30)   |0         |3         |None     |0      |\n",
      "|test        |INT           |0         |4         |NULL     |0      |\n",
      "+------------+--------------+----------+----------+---------+-------+\n"
     ]
    },
    {
     "data": {
      "text/plain": [
       "(0, ['name', 'last_seen', 'appearance', 'activities', 'test'])"
      ]
     },
     "execution_count": 15,
     "metadata": {},
     "output_type": "execute_result"
    }
   ],
   "source": [
    "table_info(conn, \"clown_info\")"
   ]
  },
  {
   "cell_type": "markdown",
   "metadata": {},
   "source": [
    "## SQLite Does not Support Adding primary key\n",
    "\n",
    "- http://stackoverflow.com/questions/16182294/installing-mysql-python-on-mac-os-x"
   ]
  },
  {
   "cell_type": "code",
   "execution_count": 17,
   "metadata": {
    "collapsed": false
   },
   "outputs": [
    {
     "name": "stderr",
     "output_type": "stream",
     "text": [
      "ERROR: An unexpected error occurred while tokenizing input\n",
      "The following traceback may be corrupted or invalid\n",
      "The error message is: ('EOF in multi-line string', (1, 4))\n",
      "\n"
     ]
    },
    {
     "ename": "OperationalError",
     "evalue": "Cannot add a PRIMARY KEY column",
     "output_type": "error",
     "traceback": [
      "\u001b[0;31m---------------------------------------------------------------------------\u001b[0m",
      "\u001b[0;31mOperationalError\u001b[0m                          Traceback (most recent call last)",
      "\u001b[0;32m<ipython-input-17-87c2ba8782fa>\u001b[0m in \u001b[0;36m<module>\u001b[0;34m()\u001b[0m\n\u001b[1;32m      3\u001b[0m     \u001b[0mALTER\u001b[0m \u001b[0mTABLE\u001b[0m \u001b[0mclown_info\u001b[0m\u001b[0;34m\u001b[0m\u001b[0m\n\u001b[1;32m      4\u001b[0m     \u001b[0mADD\u001b[0m \u001b[0mCOLUMN\u001b[0m \u001b[0mcontact_id\u001b[0m \u001b[0mINT\u001b[0m \u001b[0mPRIMARY\u001b[0m \u001b[0mKEY\u001b[0m\u001b[0;34m;\u001b[0m\u001b[0;34m\u001b[0m\u001b[0m\n\u001b[0;32m----> 5\u001b[0;31m     \"\"\")\n\u001b[0m",
      "\u001b[0;31mOperationalError\u001b[0m: Cannot add a PRIMARY KEY column"
     ]
    }
   ],
   "source": [
    "c.execute(\n",
    "    \"\"\"\n",
    "    ALTER TABLE clown_info\n",
    "    ADD COLUMN contact_id INT PRIMARY KEY;\n",
    "    \"\"\")"
   ]
  },
  {
   "cell_type": "code",
   "execution_count": null,
   "metadata": {
    "collapsed": true
   },
   "outputs": [],
   "source": []
  }
 ],
 "metadata": {
  "kernelspec": {
   "display_name": "Python 3",
   "language": "python",
   "name": "python3"
  },
  "language_info": {
   "codemirror_mode": {
    "name": "ipython",
    "version": 3
   },
   "file_extension": ".py",
   "mimetype": "text/x-python",
   "name": "python",
   "nbconvert_exporter": "python",
   "pygments_lexer": "ipython3",
   "version": "3.4.1"
  }
 },
 "nbformat": 4,
 "nbformat_minor": 0
}
