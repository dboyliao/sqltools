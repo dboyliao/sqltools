{
 "cells": [
  {
   "cell_type": "code",
   "execution_count": 1,
   "metadata": {
    "collapsed": true
   },
   "outputs": [],
   "source": [
    "import sqlite3\n",
    "from tools import table_info"
   ]
  },
  {
   "cell_type": "code",
   "execution_count": 2,
   "metadata": {
    "collapsed": true
   },
   "outputs": [],
   "source": [
    "import sqlparse"
   ]
  },
  {
   "cell_type": "code",
   "execution_count": 3,
   "metadata": {
    "collapsed": true
   },
   "outputs": [],
   "source": [
    "sql_cmd = \"SELECT * FROM table_test\""
   ]
  },
  {
   "cell_type": "code",
   "execution_count": 4,
   "metadata": {
    "collapsed": false
   },
   "outputs": [
    {
     "data": {
      "text/plain": [
       "['SELECT * FROM table_test']"
      ]
     },
     "execution_count": 4,
     "metadata": {},
     "output_type": "execute_result"
    }
   ],
   "source": [
    "sqlparse.split(sql_cmd)"
   ]
  },
  {
   "cell_type": "code",
   "execution_count": 5,
   "metadata": {
    "collapsed": false
   },
   "outputs": [
    {
     "data": {
      "text/plain": [
       "'SELECT *\\nFROM table_test'"
      ]
     },
     "execution_count": 5,
     "metadata": {},
     "output_type": "execute_result"
    }
   ],
   "source": [
    "sqlparse.format(sql_cmd, reindent=True, keyword_case='upper')"
   ]
  },
  {
   "cell_type": "code",
   "execution_count": 6,
   "metadata": {
    "collapsed": true
   },
   "outputs": [],
   "source": [
    "sql_cmd = \"SELECT * FROM table_test\""
   ]
  },
  {
   "cell_type": "code",
   "execution_count": 7,
   "metadata": {
    "collapsed": false
   },
   "outputs": [],
   "source": [
    "def _parse_columns(query):\n",
    "    q = sqlparse.format(query, keyword_case = \"upper\")\n",
    "    select_q, table_name, *_ = q.split(\"FROM\")\n",
    "    temp = select_q.split(\" \")\n",
    "    return [name.strip(\",\") for name in temp if name not in ['SELECT', '']], table_name.strip()"
   ]
  },
  {
   "cell_type": "code",
   "execution_count": 8,
   "metadata": {
    "collapsed": false
   },
   "outputs": [
    {
     "data": {
      "text/plain": [
       "(['*'], 'table_test')"
      ]
     },
     "execution_count": 8,
     "metadata": {},
     "output_type": "execute_result"
    }
   ],
   "source": [
    "_parse_columns(sql_cmd)"
   ]
  },
  {
   "cell_type": "code",
   "execution_count": 21,
   "metadata": {
    "collapsed": false
   },
   "outputs": [],
   "source": [
    "def show(conn, query):\n",
    "    colnames, table_name = _parse_columns(query)\n",
    "    if len(colnames) == 1 and colnames[0] == '*':\n",
    "        status, colnames = table_info(conn, table_name, False)\n",
    "    col_len = list(map(lambda n: len(n), colnames))\n",
    "    sep = '+'\n",
    "    for l in col_len:\n",
    "        sep += \"-\" * (l + 8) + '+'\n",
    "    print(sep)\n",
    "    header = \"|\"\n",
    "    for ind in range(len(colnames)):\n",
    "        header += \"{\" + str(ind) + \":<{0}\".format(col_len[ind]+8) + \"}|\"\n",
    "    print(header.format(*colnames))\n",
    "    print(sep)\n",
    "    c = conn.cursor()\n",
    "    c.execute(query)\n",
    "    data = c.fetchall()\n",
    "    for d in data:\n",
    "        print(header.format(*d))\n",
    "    print(sep)"
   ]
  },
  {
   "cell_type": "code",
   "execution_count": 22,
   "metadata": {
    "collapsed": true
   },
   "outputs": [],
   "source": [
    "conn = sqlite3.connect(\"drinks.db\")"
   ]
  },
  {
   "cell_type": "code",
   "execution_count": 23,
   "metadata": {
    "collapsed": false
   },
   "outputs": [
    {
     "name": "stdout",
     "output_type": "stream",
     "text": [
      "+------------------+------------+-------------+-------------+-----------+----------------+\n",
      "|drink_name        |cost        |carbs        |color        |ice        |colories        |\n",
      "+------------------+------------+-------------+-------------+-----------+----------------+\n",
      "|Blackthorn        |3           |8.4          |yellow       |Y          |33              |\n",
      "|Blue Moon         |2.5         |3.2          |blue         |Y          |12              |\n",
      "|Oh My Gosh        |3.5         |8.6          |orange       |Y          |35              |\n",
      "|Lime Fizz         |2.5         |5.4          |green        |Y          |24              |\n",
      "|Kiss on the Lips  |5.5         |42.5         |purple       |Y          |171             |\n",
      "|Hot Gold          |3.2         |32.1         |orange       |N          |135             |\n",
      "|Lone Tree         |3.6         |4.2          |red          |Y          |50              |\n",
      "|Greyhound         |4           |14           |yellow       |Y          |50              |\n",
      "|Indian Summer     |2.8         |7.2          |brown        |N          |30              |\n",
      "|Bull Frog         |2.6         |21.5         |tan          |Y          |80              |\n",
      "|Soda and It       |3.8         |4.7          |red          |N          |19              |\n",
      "+------------------+------------+-------------+-------------+-----------+----------------+\n"
     ]
    }
   ],
   "source": [
    "t = show(conn, \"SELECT * FROM drink_info\")"
   ]
  },
  {
   "cell_type": "code",
   "execution_count": 58,
   "metadata": {
    "collapsed": false
   },
   "outputs": [],
   "source": [
    "from tools import table_info"
   ]
  },
  {
   "cell_type": "code",
   "execution_count": 24,
   "metadata": {
    "collapsed": false
   },
   "outputs": [
    {
     "name": "stdout",
     "output_type": "stream",
     "text": [
      "+------------+--------------+----------+----------+---------+-------+\n",
      "|Column      |Type          |Not NULL  |Key       |Default  |Extra  |\n",
      "+------------+--------------+----------+----------+---------+-------+\n",
      "|drink_name  |VARCHAR(30)   |1         |0         |None     |0      |\n",
      "|cost        |DEC(2,2)      |1         |1         |None     |0      |\n",
      "|carbs       |DEC(3, 2)     |0         |2         |None     |0      |\n",
      "|color       |VARCHAR(30)   |0         |3         |None     |0      |\n",
      "|ice         |CHAR(1)       |0         |4         |None     |0      |\n",
      "|colories    |DEC(4, 2)     |0         |5         |None     |0      |\n",
      "+------------+--------------+----------+----------+---------+-------+\n"
     ]
    },
    {
     "data": {
      "text/plain": [
       "(0, ['drink_name', 'cost', 'carbs', 'color', 'ice', 'colories'])"
      ]
     },
     "execution_count": 24,
     "metadata": {},
     "output_type": "execute_result"
    }
   ],
   "source": [
    "table_info(conn, \"drink_info\")"
   ]
  },
  {
   "cell_type": "code",
   "execution_count": null,
   "metadata": {
    "collapsed": true
   },
   "outputs": [],
   "source": []
  }
 ],
 "metadata": {
  "kernelspec": {
   "display_name": "Python 3",
   "language": "python",
   "name": "python3"
  },
  "language_info": {
   "codemirror_mode": {
    "name": "ipython",
    "version": 3
   },
   "file_extension": ".py",
   "mimetype": "text/x-python",
   "name": "python",
   "nbconvert_exporter": "python",
   "pygments_lexer": "ipython3",
   "version": "3.4.1"
  }
 },
 "nbformat": 4,
 "nbformat_minor": 0
}
