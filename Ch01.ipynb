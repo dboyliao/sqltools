{
 "cells": [
  {
   "cell_type": "markdown",
   "metadata": {},
   "source": [
    "## Docs\n",
    "\n",
    "- https://docs.python.org/2/library/sqlite3.html\n",
    "- http://www.sqlite.org/pragma.html#pragma_table_info"
   ]
  },
  {
   "cell_type": "code",
   "execution_count": 3,
   "metadata": {
    "collapsed": true
   },
   "outputs": [],
   "source": [
    "import sqlite3"
   ]
  },
  {
   "cell_type": "code",
   "execution_count": 4,
   "metadata": {
    "collapsed": true
   },
   "outputs": [],
   "source": [
    "conn = sqlite3.connect(\"try_sql.db\") # It is equivalent to create a database in SQL"
   ]
  },
  {
   "cell_type": "code",
   "execution_count": 5,
   "metadata": {
    "collapsed": false
   },
   "outputs": [],
   "source": [
    "c = conn.cursor()"
   ]
  },
  {
   "cell_type": "code",
   "execution_count": 6,
   "metadata": {
    "collapsed": false
   },
   "outputs": [
    {
     "data": {
      "text/plain": [
       "<sqlite3.Cursor at 0x10c445ab0>"
      ]
     },
     "execution_count": 6,
     "metadata": {},
     "output_type": "execute_result"
    }
   ],
   "source": [
    "c.execute(\"CREATE TABLE my_contacts ( \\\n",
    "         last_name VARCHAR(30), \\\n",
    "         first_name VARCHAR(20), \\\n",
    "         email VARCHAR(50), \\\n",
    "         gender CHAR(1), \\\n",
    "         birthday DATE, \\\n",
    "         profession VARCHAR(50), \\\n",
    "         location VARCHAR(50), \\\n",
    "         status VARCHAR(20), \\\n",
    "         interests VARCHAR(100), \\\n",
    "         seeking VARCHAR(100) \\\n",
    "         )\")"
   ]
  },
  {
   "cell_type": "code",
   "execution_count": 7,
   "metadata": {
    "collapsed": false
   },
   "outputs": [
    {
     "ename": "OperationalError",
     "evalue": "table my_contacts already exists",
     "output_type": "error",
     "traceback": [
      "\u001b[0;31m---------------------------------------------------------------------------\u001b[0m",
      "\u001b[0;31mOperationalError\u001b[0m                          Traceback (most recent call last)",
      "\u001b[0;32m<ipython-input-7-8fc3dba101e8>\u001b[0m in \u001b[0;36m<module>\u001b[0;34m()\u001b[0m\n\u001b[0;32m----> 1\u001b[0;31m \u001b[0mc\u001b[0m\u001b[0;34m.\u001b[0m\u001b[0mexecute\u001b[0m\u001b[0;34m(\u001b[0m\u001b[0;34m\"CREATE TABLE my_contacts (          last_name VARCHAR(30),          first_name VARCHAR(20),          email VARCHAR(50),          gender CHAR(1),          birthday DATE,          profession VARCHAR(50),          location VARCHAR(50),          status VARCHAR(20),          interests VARCHAR(100),          seeking VARCHAR(100)          )\"\u001b[0m\u001b[0;34m)\u001b[0m\u001b[0;34m\u001b[0m\u001b[0m\n\u001b[0m",
      "\u001b[0;31mOperationalError\u001b[0m: table my_contacts already exists"
     ]
    }
   ],
   "source": [
    "c.execute(\"CREATE TABLE my_contacts ( \\\n",
    "         last_name VARCHAR(30), \\\n",
    "         first_name VARCHAR(20), \\\n",
    "         email VARCHAR(50), \\\n",
    "         gender CHAR(1), \\\n",
    "         birthday DATE, \\\n",
    "         profession VARCHAR(50), \\\n",
    "         location VARCHAR(50), \\\n",
    "         status VARCHAR(20), \\\n",
    "         interests VARCHAR(100), \\\n",
    "         seeking VARCHAR(100) \\\n",
    "         )\") # You cannot create a table with the same name again. (Drop it first!)"
   ]
  },
  {
   "cell_type": "code",
   "execution_count": 9,
   "metadata": {
    "collapsed": false
   },
   "outputs": [
    {
     "data": {
      "text/plain": [
       "<sqlite3.Cursor at 0x102907a40>"
      ]
     },
     "execution_count": 9,
     "metadata": {},
     "output_type": "execute_result"
    }
   ],
   "source": [
    "c.execute(\"\"\"INSERT INTO my_contacts\n",
    "            (last_name, first_name, email, gender, birthday,\n",
    "            profession, location, status, interests, seeking)\n",
    "            VALUES\n",
    "            ('Anderson', 'Jullian', 'jill_anderson@gmail.com', 'F',\n",
    "            '1980-09-05', 'Technical Writer', 'Palo Alto, CA', 'Single',\n",
    "            'Kayaking, Reptiles', 'Relationship, Friends')\n",
    "          \"\"\")"
   ]
  },
  {
   "cell_type": "code",
   "execution_count": 10,
   "metadata": {
    "collapsed": true
   },
   "outputs": [],
   "source": [
    "conn.commit() # Saving the data."
   ]
  },
  {
   "cell_type": "code",
   "execution_count": 4,
   "metadata": {
    "collapsed": false
   },
   "outputs": [
    {
     "data": {
      "text/plain": [
       "<sqlite3.Cursor at 0x102094a40>"
      ]
     },
     "execution_count": 4,
     "metadata": {},
     "output_type": "execute_result"
    }
   ],
   "source": [
    "c.execute(\"\"\"SELECT * FROM my_contacts\"\"\")"
   ]
  },
  {
   "cell_type": "code",
   "execution_count": 14,
   "metadata": {
    "collapsed": false
   },
   "outputs": [
    {
     "name": "stdout",
     "output_type": "stream",
     "text": [
      "('Anderson', 'Jullian', 'jill_anderson@gmail.com', 'F', '1980-09-05', 'Technical Writer', 'Palo Alto, CA', 'Single', 'Kayaking, Reptiles', 'Relationship, Friends')\n"
     ]
    }
   ],
   "source": [
    "print(c.fetchone()) # Fetching data"
   ]
  },
  {
   "cell_type": "code",
   "execution_count": 15,
   "metadata": {
    "collapsed": false
   },
   "outputs": [
    {
     "name": "stdout",
     "output_type": "stream",
     "text": [
      "None\n"
     ]
    }
   ],
   "source": [
    "print(c.fetchone()) # c is a cursor (a generator-like obj)."
   ]
  },
  {
   "cell_type": "code",
   "execution_count": 24,
   "metadata": {
    "collapsed": false
   },
   "outputs": [
    {
     "data": {
      "text/plain": [
       "<sqlite3.Cursor at 0x10c445ab0>"
      ]
     },
     "execution_count": 24,
     "metadata": {},
     "output_type": "execute_result"
    }
   ],
   "source": [
    "c.execute(\"SELECT name FROM sqlite_master WHERE type='table';\")"
   ]
  },
  {
   "cell_type": "code",
   "execution_count": 5,
   "metadata": {
    "collapsed": false
   },
   "outputs": [
    {
     "name": "stdout",
     "output_type": "stream",
     "text": [
      "[('Anderson', 'Jullian', 'jill_anderson@gmail.com', 'F', '1980-09-05', 'Technical Writer', 'Palo Alto, CA', 'Single', 'Kayaking, Reptiles', 'Relationship, Friends')]\n"
     ]
    }
   ],
   "source": [
    "print(c.fetchall())"
   ]
  },
  {
   "cell_type": "code",
   "execution_count": 27,
   "metadata": {
    "collapsed": false
   },
   "outputs": [
    {
     "data": {
      "text/plain": [
       "<sqlite3.Cursor at 0x10c445ab0>"
      ]
     },
     "execution_count": 27,
     "metadata": {},
     "output_type": "execute_result"
    }
   ],
   "source": [
    "c.execute(\"PRAGMA table_info('my_contacts')\")"
   ]
  },
  {
   "cell_type": "code",
   "execution_count": 28,
   "metadata": {
    "collapsed": false
   },
   "outputs": [
    {
     "name": "stdout",
     "output_type": "stream",
     "text": [
      "[(0, 'last_name', 'VARCHAR(30)', 0, None, 0), (1, 'first_name', 'VARCHAR(20)', 0, None, 0), (2, 'email', 'VARCHAR(50)', 0, None, 0), (3, 'gender', 'CHAR(1)', 0, None, 0), (4, 'birthday', 'DATE', 0, None, 0), (5, 'profession', 'VARCHAR(50)', 0, None, 0), (6, 'location', 'VARCHAR(50)', 0, None, 0), (7, 'status', 'VARCHAR(20)', 0, None, 0), (8, 'interests', 'VARCHAR(100)', 0, None, 0), (9, 'seeking', 'VARCHAR(100)', 0, None, 0)]\n"
     ]
    }
   ],
   "source": [
    "print(c.fetchall())"
   ]
  },
  {
   "cell_type": "code",
   "execution_count": 7,
   "metadata": {
    "collapsed": false
   },
   "outputs": [
    {
     "data": {
      "text/plain": [
       "<sqlite3.Cursor at 0x102907a40>"
      ]
     },
     "execution_count": 7,
     "metadata": {},
     "output_type": "execute_result"
    }
   ],
   "source": [
    "c.execute(\"\"\"DROP TABLE my_contacts\"\"\")"
   ]
  },
  {
   "cell_type": "code",
   "execution_count": 14,
   "metadata": {
    "collapsed": false
   },
   "outputs": [],
   "source": [
    "conn.commit()"
   ]
  },
  {
   "cell_type": "code",
   "execution_count": 8,
   "metadata": {
    "collapsed": false
   },
   "outputs": [
    {
     "data": {
      "text/plain": [
       "<sqlite3.Cursor at 0x102907a40>"
      ]
     },
     "execution_count": 8,
     "metadata": {},
     "output_type": "execute_result"
    }
   ],
   "source": [
    "c.execute(\"CREATE TABLE my_contacts ( \\\n",
    "         last_name VARCHAR(30) NOT NULL, \\\n",
    "         first_name VARCHAR(20) NOT NULL, \\\n",
    "         email VARCHAR(50) NOT NULL, \\\n",
    "         gender CHAR(1) NOT NULL, \\\n",
    "         birthday DATE NOT NULL, \\\n",
    "         profession VARCHAR(50) NOT NULL, \\\n",
    "         location VARCHAR(50) NOT NULL, \\\n",
    "         status VARCHAR(20) NOT NULL, \\\n",
    "         interests VARCHAR(100) NOT NULL, \\\n",
    "         seeking VARCHAR(100) NOT NULL\\\n",
    "         )\")"
   ]
  },
  {
   "cell_type": "code",
   "execution_count": 16,
   "metadata": {
    "collapsed": true
   },
   "outputs": [],
   "source": [
    "conn.commit()"
   ]
  },
  {
   "cell_type": "code",
   "execution_count": 17,
   "metadata": {
    "collapsed": false
   },
   "outputs": [
    {
     "data": {
      "text/plain": [
       "<sqlite3.Cursor at 0x102094a40>"
      ]
     },
     "execution_count": 17,
     "metadata": {},
     "output_type": "execute_result"
    }
   ],
   "source": [
    "c.execute(\"PRAGMA table_info('my_contacts')\")"
   ]
  },
  {
   "cell_type": "code",
   "execution_count": 18,
   "metadata": {
    "collapsed": false
   },
   "outputs": [
    {
     "name": "stdout",
     "output_type": "stream",
     "text": [
      "[(0, 'last_name', 'VARCHAR(30)', 1, None, 0), (1, 'first_name', 'VARCHAR(20)', 1, None, 0), (2, 'email', 'VARCHAR(50)', 1, None, 0), (3, 'gender', 'CHAR(1)', 1, None, 0), (4, 'birthday', 'DATE', 1, None, 0), (5, 'profession', 'VARCHAR(50)', 1, None, 0), (6, 'location', 'VARCHAR(50)', 1, None, 0), (7, 'status', 'VARCHAR(20)', 1, None, 0), (8, 'interests', 'VARCHAR(100)', 1, None, 0), (9, 'seeking', 'VARCHAR(100)', 1, None, 0)]\n"
     ]
    }
   ],
   "source": [
    "print(c.fetchall()) # (key, col_name, type, not_null, default_value, extra)"
   ]
  },
  {
   "cell_type": "code",
   "execution_count": 19,
   "metadata": {
    "collapsed": false
   },
   "outputs": [
    {
     "data": {
      "text/plain": [
       "<sqlite3.Cursor at 0x102094a40>"
      ]
     },
     "execution_count": 19,
     "metadata": {},
     "output_type": "execute_result"
    }
   ],
   "source": [
    "c.execute(\"\"\"CREATE TABLE doughnut_list (\n",
    "    doughnut_name VARCHAR(10) NOT NULL,\n",
    "    doughnut_type VARCHAR(6),\n",
    "    doughnut_price DEC(3, 2) NOT NULL DEFAULT 1.00\n",
    "    )\n",
    "    \"\"\")"
   ]
  },
  {
   "cell_type": "code",
   "execution_count": 20,
   "metadata": {
    "collapsed": true
   },
   "outputs": [],
   "source": [
    "conn.commit()"
   ]
  },
  {
   "cell_type": "code",
   "execution_count": 21,
   "metadata": {
    "collapsed": false
   },
   "outputs": [
    {
     "data": {
      "text/plain": [
       "<sqlite3.Cursor at 0x102094a40>"
      ]
     },
     "execution_count": 21,
     "metadata": {},
     "output_type": "execute_result"
    }
   ],
   "source": [
    "c.execute(\"PRAGMA table_info('doughnut_list')\")"
   ]
  },
  {
   "cell_type": "code",
   "execution_count": 22,
   "metadata": {
    "collapsed": false
   },
   "outputs": [
    {
     "name": "stdout",
     "output_type": "stream",
     "text": [
      "[(0, 'doughnut_name', 'VARCHAR(10)', 1, None, 0), (1, 'doughnut_type', 'VARCHAR(6)', 0, None, 0), (2, 'doughnut_price', 'DEC(3, 2)', 1, '1.00', 0)]\n"
     ]
    }
   ],
   "source": [
    "print(c.fetchall())"
   ]
  },
  {
   "cell_type": "code",
   "execution_count": 13,
   "metadata": {
    "collapsed": false
   },
   "outputs": [
    {
     "data": {
      "text/plain": [
       "<sqlite3.Cursor at 0x102907a40>"
      ]
     },
     "execution_count": 13,
     "metadata": {},
     "output_type": "execute_result"
    }
   ],
   "source": [
    "c.execute(\"SELECT * FROM my_contacts\")"
   ]
  },
  {
   "cell_type": "code",
   "execution_count": 18,
   "metadata": {
    "collapsed": false
   },
   "outputs": [
    {
     "data": {
      "text/plain": [
       "(('last_name', None, None, None, None, None, None),\n",
       " ('first_name', None, None, None, None, None, None),\n",
       " ('email', None, None, None, None, None, None),\n",
       " ('gender', None, None, None, None, None, None),\n",
       " ('birthday', None, None, None, None, None, None),\n",
       " ('profession', None, None, None, None, None, None),\n",
       " ('location', None, None, None, None, None, None),\n",
       " ('status', None, None, None, None, None, None),\n",
       " ('interests', None, None, None, None, None, None),\n",
       " ('seeking', None, None, None, None, None, None))"
      ]
     },
     "execution_count": 18,
     "metadata": {},
     "output_type": "execute_result"
    }
   ],
   "source": [
    "c.description"
   ]
  },
  {
   "cell_type": "code",
   "execution_count": 15,
   "metadata": {
    "collapsed": true
   },
   "outputs": [],
   "source": [
    "rows = c.fetchall()"
   ]
  },
  {
   "cell_type": "code",
   "execution_count": 16,
   "metadata": {
    "collapsed": false
   },
   "outputs": [
    {
     "data": {
      "text/plain": [
       "[('Anderson',\n",
       "  'Jullian',\n",
       "  'jill_anderson@gmail.com',\n",
       "  'F',\n",
       "  '1980-09-05',\n",
       "  'Technical Writer',\n",
       "  'Palo Alto, CA',\n",
       "  'Single',\n",
       "  'Kayaking, Reptiles',\n",
       "  'Relationship, Friends')]"
      ]
     },
     "execution_count": 16,
     "metadata": {},
     "output_type": "execute_result"
    }
   ],
   "source": [
    "rows"
   ]
  },
  {
   "cell_type": "code",
   "execution_count": null,
   "metadata": {
    "collapsed": true
   },
   "outputs": [],
   "source": []
  }
 ],
 "metadata": {
  "kernelspec": {
   "display_name": "Python 3",
   "language": "python",
   "name": "python3"
  },
  "language_info": {
   "codemirror_mode": {
    "name": "ipython",
    "version": 3
   },
   "file_extension": ".py",
   "mimetype": "text/x-python",
   "name": "python",
   "nbconvert_exporter": "python",
   "pygments_lexer": "ipython3",
   "version": "3.4.1"
  }
 },
 "nbformat": 4,
 "nbformat_minor": 0
}
