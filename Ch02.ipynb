{
 "cells": [
  {
   "cell_type": "code",
   "execution_count": 1,
   "metadata": {
    "collapsed": true
   },
   "outputs": [],
   "source": [
    "import sqlite3"
   ]
  },
  {
   "cell_type": "code",
   "execution_count": 2,
   "metadata": {
    "collapsed": true
   },
   "outputs": [],
   "source": [
    "conn = sqlite3.connect(\"drinks.db\")"
   ]
  },
  {
   "cell_type": "code",
   "execution_count": 3,
   "metadata": {
    "collapsed": true
   },
   "outputs": [],
   "source": [
    "c = conn.cursor()"
   ]
  },
  {
   "cell_type": "code",
   "execution_count": 8,
   "metadata": {
    "collapsed": false
   },
   "outputs": [
    {
     "data": {
      "text/plain": [
       "<sqlite3.Cursor at 0x10cba0a40>"
      ]
     },
     "execution_count": 8,
     "metadata": {},
     "output_type": "execute_result"
    }
   ],
   "source": [
    "c.execute(\"\"\"CREATE TABLE easy_drinks( \\\n",
    "            drink_name VARCHAR(20) NOT NULL, \\\n",
    "            main VARCHAR(20) NOT NULL, \\\n",
    "            amount1 DEC(1, 2) NOT NULL, \\\n",
    "            second VARCHAR(20) NOT NULL, \\\n",
    "            amount2 DEC(1, 2) NOT NULL,\n",
    "            dirctions BLOB)\n",
    "        \"\"\")"
   ]
  },
  {
   "cell_type": "code",
   "execution_count": 9,
   "metadata": {
    "collapsed": true
   },
   "outputs": [],
   "source": [
    "conn.commit()"
   ]
  },
  {
   "cell_type": "code",
   "execution_count": 10,
   "metadata": {
    "collapsed": true
   },
   "outputs": [],
   "source": [
    "data = [\n",
    "    ('Blackthorn', 'tonic water', 1.5, 'pineapple juice', 1, \"stir w/t ice, strain into cocktail glass with lemon twist\"),\n",
    "    ('Blue Moon', 'soda', 1.5, 'blueberry juice', 0.75, 'stir w/t ice, strain into cocktail glass with lemon twist'),\n",
    "    ('Oh My Gosh', 'peach nectar', 1, 'pineapple juice', 1, 'stir w/t ice, strain into shot glass'),\n",
    "    ('Lime Fizz', 'Sprite', 1.5, 'lime juice', 0.75, 'stir w/t ice, strain into cocktail glass'),\n",
    "    ('Kiss on the Lips', 'cherry juice', 2, 'apricot nectar', 7, 'serve over ice with straw'),\n",
    "    ('Hot Gold', 'peach nectar', 3, 'orange juice', 6, 'pour hot orange juice in mug and add peach nectar'),\n",
    "    ('Lone Tree', 'soda', 1.5, 'cherry juice', 0.75,  'stir w/t ice, strain into cocktail glass'),\n",
    "    ('Greyhound', 'soda', 1.5, 'grapefruit juice', 5, 'serve over ice, stir well'),\n",
    "    ('Indian Summer', 'apple juice', 2, 'hot tea', 6, 'add juice to mug and top off with hot tea'),\n",
    "    ('Bull Frog', 'iced tea', 1.5, 'lemonade', 5, 'serve over ice with lime slice'),\n",
    "    ('Soda and It', 'soda', 2, 'grape juice', 1, 'shake in cocktail glass, no ice')\n",
    "]"
   ]
  },
  {
   "cell_type": "code",
   "execution_count": 11,
   "metadata": {
    "collapsed": false
   },
   "outputs": [],
   "source": [
    "for d in data:\n",
    "    c.execute(\"INSERT INTO easy_drinks VALUES (?, ?, ?, ?, ?, ?)\", d)"
   ]
  },
  {
   "cell_type": "code",
   "execution_count": 12,
   "metadata": {
    "collapsed": true
   },
   "outputs": [],
   "source": [
    "conn.commit()"
   ]
  },
  {
   "cell_type": "code",
   "execution_count": 13,
   "metadata": {
    "collapsed": false
   },
   "outputs": [
    {
     "data": {
      "text/plain": [
       "<sqlite3.Cursor at 0x10cba0a40>"
      ]
     },
     "execution_count": 13,
     "metadata": {},
     "output_type": "execute_result"
    }
   ],
   "source": [
    "c.execute(\"SELECT * FROM easy_drinks\")"
   ]
  },
  {
   "cell_type": "code",
   "execution_count": 14,
   "metadata": {
    "collapsed": false
   },
   "outputs": [
    {
     "name": "stdout",
     "output_type": "stream",
     "text": [
      "('Blackthorn', 'tonic water', 1.5, 'pineapple juice', 1, 'stir w/t ice, strain into cocktail glass with lemon twist')\n",
      "('Blue Moon', 'soda', 1.5, 'blueberry juice', 0.75, 'stir w/t ice, strain into cocktail glass with lemon twist')\n",
      "('Oh My Gosh', 'peach nectar', 1, 'pineapple juice', 1, 'stir w/t ice, strain into shot glass')\n",
      "('Lime Fizz', 'Sprite', 1.5, 'lime juice', 0.75, 'stir w/t ice, strain into cocktail glass')\n",
      "('Kiss on the Lips', 'cherry juice', 2, 'apricot nectar', 7, 'serve over ice with straw')\n",
      "('Hot Gold', 'peach nectar', 3, 'orange juice', 6, 'pour hot orange juice in mug and add peach nectar')\n",
      "('Lone Tree', 'soda', 1.5, 'cherry juice', 0.75, 'stir w/t ice, strain into cocktail glass')\n",
      "('Greyhound', 'soda', 1.5, 'grapefruit juice', 5, 'serve over ice, stir well')\n",
      "('Indian Summer', 'apple juice', 2, 'hot tea', 6, 'add juice to mug and top off with hot tea')\n",
      "('Bull Frog', 'iced tea', 1.5, 'lemonade', 5, 'serve over ice with lime slice')\n",
      "('Soda and It', 'soda', 2, 'grape juice', 1, 'shake in cocktail glass, no ice')\n"
     ]
    }
   ],
   "source": [
    "for row in c.fetchall():\n",
    "    print(row)"
   ]
  },
  {
   "cell_type": "code",
   "execution_count": 15,
   "metadata": {
    "collapsed": false
   },
   "outputs": [
    {
     "name": "stdout",
     "output_type": "stream",
     "text": [
      "('Lime Fizz', 'Sprite', 1.5, 'lime juice', 0.75, 'stir w/t ice, strain into cocktail glass')\n"
     ]
    }
   ],
   "source": [
    "c.execute(\"SELECT * FROM easy_drinks WHERE main = 'Sprite'\")\n",
    "for row in c.fetchall():\n",
    "    print(row)"
   ]
  },
  {
   "cell_type": "code",
   "execution_count": 16,
   "metadata": {
    "collapsed": false
   },
   "outputs": [
    {
     "ename": "OperationalError",
     "evalue": "no such column: soda",
     "output_type": "error",
     "traceback": [
      "\u001b[0;31m---------------------------------------------------------------------------\u001b[0m",
      "\u001b[0;31mOperationalError\u001b[0m                          Traceback (most recent call last)",
      "\u001b[0;32m<ipython-input-16-6112b2d28d53>\u001b[0m in \u001b[0;36m<module>\u001b[0;34m()\u001b[0m\n\u001b[0;32m----> 1\u001b[0;31m \u001b[0mc\u001b[0m\u001b[0;34m.\u001b[0m\u001b[0mexecute\u001b[0m\u001b[0;34m(\u001b[0m\u001b[0;34m\"SELECT * FROM easy_drinks WHERE main = soda\"\u001b[0m\u001b[0;34m)\u001b[0m\u001b[0;34m\u001b[0m\u001b[0m\n\u001b[0m\u001b[1;32m      2\u001b[0m \u001b[0;32mfor\u001b[0m \u001b[0mrow\u001b[0m \u001b[0;32min\u001b[0m \u001b[0mc\u001b[0m\u001b[0;34m.\u001b[0m\u001b[0mfetchall\u001b[0m\u001b[0;34m(\u001b[0m\u001b[0;34m)\u001b[0m\u001b[0;34m:\u001b[0m\u001b[0;34m\u001b[0m\u001b[0m\n\u001b[1;32m      3\u001b[0m     \u001b[0mprint\u001b[0m\u001b[0;34m(\u001b[0m\u001b[0mrow\u001b[0m\u001b[0;34m)\u001b[0m\u001b[0;34m\u001b[0m\u001b[0m\n",
      "\u001b[0;31mOperationalError\u001b[0m: no such column: soda"
     ]
    }
   ],
   "source": [
    "c.execute(\"SELECT * FROM easy_drinks WHERE main = soda\")\n",
    "for row in c.fetchall():\n",
    "    print(row)"
   ]
  },
  {
   "cell_type": "code",
   "execution_count": 17,
   "metadata": {
    "collapsed": false
   },
   "outputs": [
    {
     "name": "stdout",
     "output_type": "stream",
     "text": [
      "('Hot Gold', 'peach nectar', 3, 'orange juice', 6, 'pour hot orange juice in mug and add peach nectar')\n",
      "('Indian Summer', 'apple juice', 2, 'hot tea', 6, 'add juice to mug and top off with hot tea')\n"
     ]
    }
   ],
   "source": [
    "c.execute(\"SELECT * FROM easy_drinks WHERE amount2 = 6\")\n",
    "for row in c.fetchall():\n",
    "    print(row)"
   ]
  },
  {
   "cell_type": "code",
   "execution_count": 18,
   "metadata": {
    "collapsed": false
   },
   "outputs": [
    {
     "name": "stdout",
     "output_type": "stream",
     "text": [
      "('Hot Gold', 'peach nectar', 3, 'orange juice', 6, 'pour hot orange juice in mug and add peach nectar')\n"
     ]
    }
   ],
   "source": [
    "c.execute(\"SELECT * FROM easy_drinks WHERE second = 'orange juice'\")\n",
    "for row in c.fetchall():\n",
    "    print(row)"
   ]
  },
  {
   "cell_type": "code",
   "execution_count": 19,
   "metadata": {
    "collapsed": false
   },
   "outputs": [
    {
     "name": "stdout",
     "output_type": "stream",
     "text": [
      "('Oh My Gosh', 'peach nectar', 1, 'pineapple juice', 1, 'stir w/t ice, strain into shot glass')\n"
     ]
    }
   ],
   "source": [
    "c.execute(\"SELECT * FROM easy_drinks WHERE amount1 < 1.5\")\n",
    "for row in c.fetchall():\n",
    "    print(row)"
   ]
  },
  {
   "cell_type": "code",
   "execution_count": 20,
   "metadata": {
    "collapsed": false
   },
   "outputs": [
    {
     "name": "stdout",
     "output_type": "stream",
     "text": [
      "('Blue Moon', 'soda', 1.5, 'blueberry juice', 0.75, 'stir w/t ice, strain into cocktail glass with lemon twist')\n",
      "('Lime Fizz', 'Sprite', 1.5, 'lime juice', 0.75, 'stir w/t ice, strain into cocktail glass')\n",
      "('Lone Tree', 'soda', 1.5, 'cherry juice', 0.75, 'stir w/t ice, strain into cocktail glass')\n"
     ]
    }
   ],
   "source": [
    "c.execute(\"SELECT * FROM easy_drinks WHERE amount2 < 1\")\n",
    "for row in c.fetchall():\n",
    "    print(row)"
   ]
  },
  {
   "cell_type": "code",
   "execution_count": 21,
   "metadata": {
    "collapsed": false
   },
   "outputs": [
    {
     "name": "stdout",
     "output_type": "stream",
     "text": [
      "('Blackthorn', 'tonic water', 1.5, 'pineapple juice', 1, 'stir w/t ice, strain into cocktail glass with lemon twist')\n"
     ]
    }
   ],
   "source": [
    "c.execute(\"SELECT * FROM easy_drinks WHERE main > 'soda'\")\n",
    "for row in c.fetchall():\n",
    "    print(row)"
   ]
  },
  {
   "cell_type": "code",
   "execution_count": 22,
   "metadata": {
    "collapsed": false
   },
   "outputs": [
    {
     "name": "stdout",
     "output_type": "stream",
     "text": [
      "('Blackthorn', 'tonic water', 1.5, 'pineapple juice', 1, 'stir w/t ice, strain into cocktail glass with lemon twist')\n",
      "('Blue Moon', 'soda', 1.5, 'blueberry juice', 0.75, 'stir w/t ice, strain into cocktail glass with lemon twist')\n",
      "('Lime Fizz', 'Sprite', 1.5, 'lime juice', 0.75, 'stir w/t ice, strain into cocktail glass')\n",
      "('Lone Tree', 'soda', 1.5, 'cherry juice', 0.75, 'stir w/t ice, strain into cocktail glass')\n",
      "('Greyhound', 'soda', 1.5, 'grapefruit juice', 5, 'serve over ice, stir well')\n",
      "('Bull Frog', 'iced tea', 1.5, 'lemonade', 5, 'serve over ice with lime slice')\n"
     ]
    }
   ],
   "source": [
    "c.execute(\"SELECT * FROM easy_drinks WHERE amount1 = '1.5'\")\n",
    "for row in c.fetchall():\n",
    "    print(row)"
   ]
  },
  {
   "cell_type": "code",
   "execution_count": 23,
   "metadata": {
    "collapsed": true
   },
   "outputs": [],
   "source": [
    "c.close()\n",
    "conn.close()"
   ]
  },
  {
   "cell_type": "code",
   "execution_count": 24,
   "metadata": {
    "collapsed": true
   },
   "outputs": [],
   "source": [
    "conn = sqlite3.connect(\"try_sql.db\")"
   ]
  },
  {
   "cell_type": "code",
   "execution_count": 25,
   "metadata": {
    "collapsed": true
   },
   "outputs": [],
   "source": [
    "c = conn.cursor()"
   ]
  },
  {
   "cell_type": "code",
   "execution_count": 26,
   "metadata": {
    "collapsed": false
   },
   "outputs": [
    {
     "data": {
      "text/plain": [
       "<sqlite3.Cursor at 0x10e6ae2d0>"
      ]
     },
     "execution_count": 26,
     "metadata": {},
     "output_type": "execute_result"
    }
   ],
   "source": [
    "c.execute(\"SELECT * FROM sqlite_master WHERE type='table'\")"
   ]
  },
  {
   "cell_type": "code",
   "execution_count": 27,
   "metadata": {
    "collapsed": false
   },
   "outputs": [
    {
     "name": "stdout",
     "output_type": "stream",
     "text": [
      "('table', 'doughnut_list', 'doughnut_list', 3, 'CREATE TABLE doughnut_list (\\n    doughnut_name VARCHAR(10) NOT NULL,\\n    doughnut_type VARCHAR(6),\\n    doughnut_price DEC(3, 2) NOT NULL DEFAULT 1.00\\n    )')\n",
      "('table', 'my_contacts', 'my_contacts', 2, 'CREATE TABLE my_contacts (          last_name VARCHAR(30) NOT NULL,          first_name VARCHAR(20) NOT NULL,          email VARCHAR(50) NOT NULL,          gender CHAR(1) NOT NULL,          birthday DATE NOT NULL,          profession VARCHAR(50) NOT NULL,          location VARCHAR(50) NOT NULL,          status VARCHAR(20) NOT NULL,          interests VARCHAR(100) NOT NULL,          seeking VARCHAR(100) NOT NULL         )')\n"
     ]
    }
   ],
   "source": [
    "for row in c.fetchall():\n",
    "    print(row)"
   ]
  },
  {
   "cell_type": "code",
   "execution_count": 28,
   "metadata": {
    "collapsed": false
   },
   "outputs": [
    {
     "data": {
      "text/plain": [
       "<sqlite3.Cursor at 0x10e6ae2d0>"
      ]
     },
     "execution_count": 28,
     "metadata": {},
     "output_type": "execute_result"
    }
   ],
   "source": [
    "c.execute(\"SELECT * FROM sqlite_master\")"
   ]
  },
  {
   "cell_type": "code",
   "execution_count": 29,
   "metadata": {
    "collapsed": false
   },
   "outputs": [
    {
     "name": "stdout",
     "output_type": "stream",
     "text": [
      "('table', 'doughnut_list', 'doughnut_list', 3, 'CREATE TABLE doughnut_list (\\n    doughnut_name VARCHAR(10) NOT NULL,\\n    doughnut_type VARCHAR(6),\\n    doughnut_price DEC(3, 2) NOT NULL DEFAULT 1.00\\n    )')\n",
      "('table', 'my_contacts', 'my_contacts', 2, 'CREATE TABLE my_contacts (          last_name VARCHAR(30) NOT NULL,          first_name VARCHAR(20) NOT NULL,          email VARCHAR(50) NOT NULL,          gender CHAR(1) NOT NULL,          birthday DATE NOT NULL,          profession VARCHAR(50) NOT NULL,          location VARCHAR(50) NOT NULL,          status VARCHAR(20) NOT NULL,          interests VARCHAR(100) NOT NULL,          seeking VARCHAR(100) NOT NULL         )')\n"
     ]
    }
   ],
   "source": [
    "for row in c.fetchall():\n",
    "    print(row)"
   ]
  },
  {
   "cell_type": "code",
   "execution_count": 30,
   "metadata": {
    "collapsed": false
   },
   "outputs": [
    {
     "name": "stdout",
     "output_type": "stream",
     "text": [
      "[(0, 'last_name', 'VARCHAR(30)', 1, None, 0), (1, 'first_name', 'VARCHAR(20)', 1, None, 0), (2, 'email', 'VARCHAR(50)', 1, None, 0), (3, 'gender', 'CHAR(1)', 1, None, 0), (4, 'birthday', 'DATE', 1, None, 0), (5, 'profession', 'VARCHAR(50)', 1, None, 0), (6, 'location', 'VARCHAR(50)', 1, None, 0), (7, 'status', 'VARCHAR(20)', 1, None, 0), (8, 'interests', 'VARCHAR(100)', 1, None, 0), (9, 'seeking', 'VARCHAR(100)', 1, None, 0)]\n"
     ]
    }
   ],
   "source": [
    "c.execute(\"PRAGMA table_info(my_contacts)\")\n",
    "print(c.fetchall())"
   ]
  },
  {
   "cell_type": "code",
   "execution_count": 42,
   "metadata": {
    "collapsed": false
   },
   "outputs": [
    {
     "data": {
      "text/plain": [
       "<sqlite3.Cursor at 0x10e6ae2d0>"
      ]
     },
     "execution_count": 42,
     "metadata": {},
     "output_type": "execute_result"
    }
   ],
   "source": [
    "c.execute(\"\"\"INSERT INTO my_contacts\n",
    "            VALUES\n",
    "            ('Funyon', 'Steve', 'steve@gmail.com', 'M', '1970-04-01',\n",
    "            'Punk', \"Gover\\'s Mill, NJ\", 'Single', 'smashing the state',\n",
    "            'compatriots, guitar players');\"\"\")"
   ]
  },
  {
   "cell_type": "code",
   "execution_count": 43,
   "metadata": {
    "collapsed": true
   },
   "outputs": [],
   "source": [
    "conn.commit()"
   ]
  },
  {
   "cell_type": "code",
   "execution_count": 44,
   "metadata": {
    "collapsed": false
   },
   "outputs": [
    {
     "data": {
      "text/plain": [
       "<sqlite3.Cursor at 0x10e6ae2d0>"
      ]
     },
     "execution_count": 44,
     "metadata": {},
     "output_type": "execute_result"
    }
   ],
   "source": [
    "c.execute(\"SELECT * FROM my_contacts WHERE last_name = 'Funyon'\")"
   ]
  },
  {
   "cell_type": "code",
   "execution_count": 45,
   "metadata": {
    "collapsed": false
   },
   "outputs": [
    {
     "name": "stdout",
     "output_type": "stream",
     "text": [
      "[('Funyon', 'Steve', 'steve@gmail.com', 'M', '1970-04-01', 'Punk', \"Gover's Mill, NJ\", 'Single', 'smashing the state', 'compatriots, guitar players')]\n"
     ]
    }
   ],
   "source": [
    "print(c.fetchall())"
   ]
  },
  {
   "cell_type": "code",
   "execution_count": 47,
   "metadata": {
    "collapsed": true
   },
   "outputs": [],
   "source": [
    "c.close()\n",
    "conn.close()"
   ]
  },
  {
   "cell_type": "code",
   "execution_count": 48,
   "metadata": {
    "collapsed": true
   },
   "outputs": [],
   "source": [
    "conn = sqlite3.connect(\"drinks.db\")"
   ]
  },
  {
   "cell_type": "code",
   "execution_count": 56,
   "metadata": {
    "collapsed": false
   },
   "outputs": [
    {
     "data": {
      "text/plain": [
       "<sqlite3.Cursor at 0x10e673c00>"
      ]
     },
     "execution_count": 56,
     "metadata": {},
     "output_type": "execute_result"
    }
   ],
   "source": [
    "c = conn.cursor()\n",
    "c.execute(\"\"\"CREATE TABLE drink_info( \\\n",
    "                drink_name VARCHAR(30) NOT NULL,\\\n",
    "                cost DEC(2,2) NOT NULL, \\\n",
    "                carbs DEC(3, 2), \\\n",
    "                color VARCHAR(30), \\\n",
    "                ice CHAR(1), \\\n",
    "                colories DEC(4, 2) \\\n",
    "              );\"\"\")"
   ]
  },
  {
   "cell_type": "code",
   "execution_count": 57,
   "metadata": {
    "collapsed": true
   },
   "outputs": [],
   "source": [
    "conn.commit()"
   ]
  },
  {
   "cell_type": "code",
   "execution_count": 59,
   "metadata": {
    "collapsed": false
   },
   "outputs": [],
   "source": [
    "data = [\n",
    "    ('Blackthorn', 3, 8.4, 'yellow', 'Y', 33),\n",
    "    ('Blue Moon', 2.5, 3.2, 'blue', 'Y', 12),\n",
    "    ('Oh My Gosh', 3.5, 8.6, 'orange', 'Y', 35),\n",
    "    ('Lime Fizz', 2.5, 5.4, 'green', 'Y', 24),\n",
    "    ('Kiss on the Lips', 5.5, 42.5, 'purple', 'Y', 171),\n",
    "    ('Hot Gold', 3.2, 32.1, 'orange', 'N', 135),\n",
    "    ('Lone Tree', 3.6, 4.2, 'red', 'Y', 50),\n",
    "    ('Greyhound', 4, 14, 'yellow', 'Y', 50),\n",
    "    ('Indian Summer', 2.8, 7.2, 'brown', 'N', 30),\n",
    "    ('Bull Frog', 2.6, 21.5, 'tan', 'Y', 80),\n",
    "    ('Soda and It', 3.8, 4.7, 'red', 'N', 19)\n",
    "]"
   ]
  },
  {
   "cell_type": "code",
   "execution_count": 60,
   "metadata": {
    "collapsed": true
   },
   "outputs": [],
   "source": [
    "with conn:\n",
    "    c = conn.cursor()\n",
    "    c.executemany(\"INSERT INTO drink_info VALUES (?,?,?,?,?,?)\", data)\n",
    "    c.close()\n",
    "    conn.commit()"
   ]
  },
  {
   "cell_type": "code",
   "execution_count": 61,
   "metadata": {
    "collapsed": false
   },
   "outputs": [
    {
     "name": "stdout",
     "output_type": "stream",
     "text": [
      "('Blackthorn', 3, 8.4, 'yellow', 'Y', 33)\n",
      "('Blue Moon', 2.5, 3.2, 'blue', 'Y', 12)\n",
      "('Oh My Gosh', 3.5, 8.6, 'orange', 'Y', 35)\n",
      "('Lime Fizz', 2.5, 5.4, 'green', 'Y', 24)\n",
      "('Kiss on the Lips', 5.5, 42.5, 'purple', 'Y', 171)\n",
      "('Hot Gold', 3.2, 32.1, 'orange', 'N', 135)\n",
      "('Lone Tree', 3.6, 4.2, 'red', 'Y', 50)\n",
      "('Greyhound', 4, 14, 'yellow', 'Y', 50)\n",
      "('Indian Summer', 2.8, 7.2, 'brown', 'N', 30)\n",
      "('Bull Frog', 2.6, 21.5, 'tan', 'Y', 80)\n",
      "('Soda and It', 3.8, 4.7, 'red', 'N', 19)\n"
     ]
    }
   ],
   "source": [
    "with conn:\n",
    "    c = conn.cursor()\n",
    "    c.execute(\"SELECT * FROM drink_info\")\n",
    "    for row in c.fetchall():\n",
    "        print(row)"
   ]
  },
  {
   "cell_type": "code",
   "execution_count": 63,
   "metadata": {
    "collapsed": false
   },
   "outputs": [
    {
     "data": {
      "text/plain": [
       "(('drink_name', None, None, None, None, None, None),\n",
       " ('cost', None, None, None, None, None, None),\n",
       " ('carbs', None, None, None, None, None, None),\n",
       " ('color', None, None, None, None, None, None),\n",
       " ('ice', None, None, None, None, None, None),\n",
       " ('colories', None, None, None, None, None, None))"
      ]
     },
     "execution_count": 63,
     "metadata": {},
     "output_type": "execute_result"
    }
   ],
   "source": [
    "c.description"
   ]
  },
  {
   "cell_type": "code",
   "execution_count": 67,
   "metadata": {
    "collapsed": false
   },
   "outputs": [
    {
     "name": "stdout",
     "output_type": "stream",
     "text": [
      "('Oh My Gosh',)\n",
      "('Soda and It',)\n"
     ]
    }
   ],
   "source": [
    "with conn:\n",
    "    c = conn.cursor()\n",
    "    c.execute(\n",
    "    \"\"\"\n",
    "    SELECT drink_name FROM drink_info\n",
    "    WHERE\n",
    "    cost >= 3.5\n",
    "    AND\n",
    "    colories < 50;\n",
    "    \"\"\")\n",
    "    for row in c.fetchall():\n",
    "        print(row)"
   ]
  },
  {
   "cell_type": "code",
   "execution_count": 68,
   "metadata": {
    "collapsed": false
   },
   "outputs": [
    {
     "name": "stdout",
     "output_type": "stream",
     "text": [
      "('Greyhound', 4)\n"
     ]
    }
   ],
   "source": [
    "with conn:\n",
    "    c = conn.cursor()\n",
    "    c.execute(\n",
    "    \"\"\"\n",
    "    SELECT drink_name, cost FROM drink_info\n",
    "    WHERE\n",
    "    ice = 'Y'\n",
    "    AND\n",
    "    colories > 33\n",
    "    AND\n",
    "    color = 'yellow';\n",
    "    \"\"\"\n",
    "    )\n",
    "    for row in c.fetchall():\n",
    "        print(row)"
   ]
  },
  {
   "cell_type": "code",
   "execution_count": 69,
   "metadata": {
    "collapsed": false
   },
   "outputs": [
    {
     "name": "stdout",
     "output_type": "stream",
     "text": [
      "('Blue Moon', 'blue')\n"
     ]
    }
   ],
   "source": [
    "with conn:\n",
    "    c = conn.cursor()\n",
    "    c.execute(\n",
    "    \"\"\"\n",
    "    SELECT drink_name, color FROM drink_info\n",
    "    WHERE ice = 'Y'\n",
    "    AND\n",
    "    carbs < 4;\n",
    "    \"\"\")\n",
    "    for row in c.fetchall():\n",
    "        print(row)"
   ]
  },
  {
   "cell_type": "code",
   "execution_count": 70,
   "metadata": {
    "collapsed": false
   },
   "outputs": [
    {
     "name": "stdout",
     "output_type": "stream",
     "text": [
      "(5.5,)\n",
      "(3.2,)\n",
      "(2.6,)\n"
     ]
    }
   ],
   "source": [
    "with conn:\n",
    "    c = conn.cursor()\n",
    "    c.execute(\n",
    "    \"\"\"\n",
    "    SELECT cost FROM drink_info\n",
    "    WHERE colories >= 80;\n",
    "    \"\"\"\n",
    "    )\n",
    "    for row in c.fetchall():\n",
    "        print(row)"
   ]
  },
  {
   "cell_type": "code",
   "execution_count": 72,
   "metadata": {
    "collapsed": false
   },
   "outputs": [
    {
     "name": "stdout",
     "output_type": "stream",
     "text": [
      "('Kiss on the Lips', 'purple', 'Y')\n",
      "('Greyhound', 'yellow', 'Y')\n"
     ]
    }
   ],
   "source": [
    "with conn:\n",
    "    c = conn.cursor()\n",
    "    c.execute(\n",
    "    \"\"\"\n",
    "    SELECT drink_name, color, ice FROM drink_info\n",
    "    WHERE drink_name = 'Greyhound'\n",
    "    OR\n",
    "    drink_name = 'Kiss on the Lips';\n",
    "    \"\"\"\n",
    "    )\n",
    "    for row in c.fetchall():\n",
    "        print(row)"
   ]
  },
  {
   "cell_type": "code",
   "execution_count": 73,
   "metadata": {
    "collapsed": false
   },
   "outputs": [
    {
     "name": "stdout",
     "output_type": "stream",
     "text": [
      "('Kiss on the Lips', 'purple', 'Y')\n",
      "('Greyhound', 'yellow', 'Y')\n"
     ]
    }
   ],
   "source": [
    "with conn:\n",
    "    c = conn.cursor()\n",
    "    c.execute(\n",
    "    \"\"\"\n",
    "    SELECT drink_name, color, ice FROM drink_info\n",
    "    WHERE drink_name IN ('Greyhound', 'Kiss on the Lips');\n",
    "    \"\"\"\n",
    "    )\n",
    "    for row in c.fetchall():\n",
    "        print(row)"
   ]
  },
  {
   "cell_type": "code",
   "execution_count": 80,
   "metadata": {
    "collapsed": false
   },
   "outputs": [
    {
     "name": "stdout",
     "output_type": "stream",
     "text": [
      "('Blackthorn',)\n",
      "('Hot Gold',)\n",
      "('Greyhound',)\n"
     ]
    }
   ],
   "source": [
    "with conn:\n",
    "    c = conn.cursor()\n",
    "    c.execute(\n",
    "    \"\"\"\n",
    "    SELECT drink_name FROM drink_info\n",
    "    WHERE cost = 3 AND color='yellow' OR colories = 135 AND ice = 'N' OR carbs = 14\n",
    "    \"\"\")\n",
    "    for row in c.fetchall():\n",
    "        print(row)"
   ]
  },
  {
   "cell_type": "code",
   "execution_count": null,
   "metadata": {
    "collapsed": true
   },
   "outputs": [],
   "source": []
  }
 ],
 "metadata": {
  "kernelspec": {
   "display_name": "Python 3",
   "language": "python",
   "name": "python3"
  },
  "language_info": {
   "codemirror_mode": {
    "name": "ipython",
    "version": 3
   },
   "file_extension": ".py",
   "mimetype": "text/x-python",
   "name": "python",
   "nbconvert_exporter": "python",
   "pygments_lexer": "ipython3",
   "version": "3.4.1"
  }
 },
 "nbformat": 4,
 "nbformat_minor": 0
}
