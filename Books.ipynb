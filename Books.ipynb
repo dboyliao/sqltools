{
 "cells": [
  {
   "cell_type": "markdown",
   "metadata": {},
   "source": [
    "## Docs\n",
    "\n",
    "- https://pypi.python.org/pypi/sqlparse"
   ]
  },
  {
   "cell_type": "code",
   "execution_count": 1,
   "metadata": {
    "collapsed": true
   },
   "outputs": [],
   "source": [
    "import sqlite3\n",
    "from tools import table_info"
   ]
  },
  {
   "cell_type": "code",
   "execution_count": 4,
   "metadata": {
    "collapsed": true
   },
   "outputs": [],
   "source": [
    "conn = sqlite3.connect(\"books.sql\")"
   ]
  },
  {
   "cell_type": "code",
   "execution_count": 9,
   "metadata": {
    "collapsed": false
   },
   "outputs": [],
   "source": [
    "with conn:\n",
    "    c = conn.cursor()\n",
    "    c.execute(\n",
    "    \"\"\"\n",
    "    CREATE TABLE python_books(\n",
    "    title VARCHAR(100) NOT NULL,\n",
    "    author VARCHAR(50) NOT NULL, \n",
    "    pub_house VARCHAR(50), \n",
    "    isbn VARCHAR(13),\n",
    "    pub_date DATE,\n",
    "    cate VARCHAR(50)\n",
    "    );\n",
    "    \"\"\")\n",
    "    conn.commit()"
   ]
  },
  {
   "cell_type": "code",
   "execution_count": 10,
   "metadata": {
    "collapsed": true
   },
   "outputs": [],
   "source": [
    "data = [\n",
    "    (\"Python Data Analytics: Data Analysis and Science Using Pandas, Matplotlib and the Python Programming Language\", \"Fabio Nelli\", None, None, '2015-11-1', 'Data Science'),\n",
    "    (\"Introduction to Machine Learning with Python\", \"Sarah Guido\", \"O'Reilly\", None, \"2015-08-25\", \"Data Science, Machine Learning\"),\n",
    "    (\"Foundations for Analytics with Python\", \"Clinton W. Brownley\",\"O'Reilly\", None, \"2015-8-25\", \"Math, Data Science\"),\n",
    "    (\"Web Scraping with Python\", \"Richard Penman\", \"Packt Publishing\", None, \"2015-06-30\", \"Web Spider\"),\n",
    "    (\"Web Scraping with Python: A Comprehensive Guide to Data Collection Solutions\", \"Ryan Mitchell\", \"O'Reilly\", None, \"2015-05-25\", \"Web Spider, Data Science\"),\n",
    "    (\"Python for Data Science For Dummies\", \"John Paul Mueller and Luca Massaron\", None, None, \"2015-06-22\", \"Data Science\"),\n",
    "    (\"Doing Math with Python: Use Programming to Explore Algebra, Statistics, Calculus, and More!\", \"Amit Saha\", \"No Starch Press\", None, \"2015-05-25\", \"Math\"),\n",
    "    (\"Python Data Science Essentials\", \"Alberto Boschetti and Luca Massaron\", None, None, \"2015-04-30\", \"Data Science\"),\n",
    "    (\"Data Science from Scratch\", \"Joel Grus\", \"O'Reilly\", None, \"2015-04-27\", \"Data Science\"),\n",
    "    (\"Machine Learning in Python: Essential Techniques for Predictive Analysis\", \"Michael Bowles\", \"Wiley\", None, \"2015-04-20\", \"Data Science, Machine Learning\")\n",
    "]"
   ]
  },
  {
   "cell_type": "code",
   "execution_count": 11,
   "metadata": {
    "collapsed": false
   },
   "outputs": [
    {
     "name": "stdout",
     "output_type": "stream",
     "text": [
      "('Python Data Analytics: Data Analysis and Science Using Pandas, Matplotlib and the Python Programming Language', 'Fabio Nelli', None, None, '2015-11-1', 'Data Science')\n",
      "('Introduction to Machine Learning with Python', 'Sarah Guido', \"O'Reilly\", None, '2015-08-25', 'Data Science, Machine Learning')\n",
      "('Foundations for Analytics with Python', 'Clinton W. Brownley', \"O'Reilly\", None, '2015-8-25', 'Math, Data Science')\n",
      "('Web Scraping with Python', 'Richard Penman', 'Packt Publishing', None, '2015-06-30', 'Web Spider')\n",
      "('Web Scraping with Python: A Comprehensive Guide to Data Collection Solutions', 'Ryan Mitchell', \"O'Reilly\", None, '2015-05-25', 'Web Spider, Data Science')\n",
      "('Python for Data Science For Dummies', 'John Paul Mueller and Luca Massaron', None, None, '2015-06-22', 'Data Science')\n",
      "('Doing Math with Python: Use Programming to Explore Algebra, Statistics, Calculus, and More!', 'Amit Saha', 'No Starch Press', None, '2015-05-25', 'Math')\n",
      "('Python Data Science Essentials', 'Alberto Boschetti and Luca Massaron', None, None, '2015-04-30', 'Data Science')\n",
      "('Data Science from Scratch', 'Joel Grus', \"O'Reilly\", None, '2015-04-27', 'Data Science')\n",
      "('Machine Learning in Python: Essential Techniques for Predictive Analysis', 'Michael Bowles', 'Wiley', None, '2015-04-20', 'Data Science, Machine Learning')\n"
     ]
    }
   ],
   "source": [
    "with conn:\n",
    "    c = conn.cursor()\n",
    "    c.executemany(\n",
    "    \"\"\"\n",
    "    INSERT INTO python_books\n",
    "    VALUES (?,?,?,?,?,?)\n",
    "    \"\"\", data)\n",
    "    conn.commit()\n",
    "    c.execute(\n",
    "    \"\"\"\n",
    "    SELECT * FROM python_books\n",
    "    \"\"\")\n",
    "    for row in c.fetchall():\n",
    "        print(row)"
   ]
  },
  {
   "cell_type": "code",
   "execution_count": 13,
   "metadata": {
    "collapsed": false
   },
   "outputs": [
    {
     "name": "stdout",
     "output_type": "stream",
     "text": [
      "+-----------+--------------+----------+----------+---------+-------+\n",
      "|Column     |Type          |Not NULL  |Key       |Default  |Extra  |\n",
      "+-----------+--------------+----------+----------+---------+-------+\n",
      "|title      |VARCHAR(100)  |1         |0         |None     |0      |\n",
      "|author     |VARCHAR(50)   |1         |1         |None     |0      |\n",
      "|pub_house  |VARCHAR(50)   |0         |2         |None     |0      |\n",
      "|isbn       |VARCHAR(13)   |0         |3         |None     |0      |\n",
      "|pub_date   |DATE          |0         |4         |None     |0      |\n",
      "|cate       |VARCHAR(50)   |0         |5         |None     |0      |\n",
      "+-----------+--------------+----------+----------+---------+-------+\n"
     ]
    },
    {
     "data": {
      "text/plain": [
       "0"
      ]
     },
     "execution_count": 13,
     "metadata": {},
     "output_type": "execute_result"
    }
   ],
   "source": [
    "table_info(conn, \"python_books\")"
   ]
  },
  {
   "cell_type": "code",
   "execution_count": null,
   "metadata": {
    "collapsed": true
   },
   "outputs": [],
   "source": []
  }
 ],
 "metadata": {
  "kernelspec": {
   "display_name": "Python 3",
   "language": "python",
   "name": "python3"
  },
  "language_info": {
   "codemirror_mode": {
    "name": "ipython",
    "version": 3
   },
   "file_extension": ".py",
   "mimetype": "text/x-python",
   "name": "python",
   "nbconvert_exporter": "python",
   "pygments_lexer": "ipython3",
   "version": "3.4.1"
  }
 },
 "nbformat": 4,
 "nbformat_minor": 0
}
