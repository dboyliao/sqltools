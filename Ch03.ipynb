{
 "cells": [
  {
   "cell_type": "code",
   "execution_count": 1,
   "metadata": {
    "collapsed": true
   },
   "outputs": [],
   "source": [
    "import sqlite3"
   ]
  },
  {
   "cell_type": "code",
   "execution_count": 2,
   "metadata": {
    "collapsed": true
   },
   "outputs": [],
   "source": [
    "conn = sqlite3.connect(\"clown.sql\")"
   ]
  },
  {
   "cell_type": "code",
   "execution_count": 8,
   "metadata": {
    "collapsed": false
   },
   "outputs": [],
   "source": [
    "with conn:\n",
    "    c = conn.cursor()\n",
    "    c.execute(\n",
    "    \"\"\"\n",
    "    CREATE TABLE clown_info(\n",
    "    name VARCHAR(20) NOT NULL,\n",
    "    last_seen VARCHAR(50),\n",
    "    appearance VARCHAR(50),\n",
    "    activities VARCHAR(30));\n",
    "    \"\"\"\n",
    "    )"
   ]
  },
  {
   "cell_type": "code",
   "execution_count": 9,
   "metadata": {
    "collapsed": true
   },
   "outputs": [],
   "source": [
    "conn.commit()"
   ]
  },
  {
   "cell_type": "code",
   "execution_count": 12,
   "metadata": {
    "collapsed": true
   },
   "outputs": [],
   "source": [
    "data = [\n",
    "    (\"Elsie\", 'Cherry Hill Senior Center', \"F, red hair, green dress, huge feet\", 'ballons, little car'),\n",
    "    (\"Pickles\", 'Jack Green\\'s party', \"M, orange hair, blue suit, huge feet\", 'mime'),\n",
    "    (\"Snuggles\", 'Ball-Mart', 'F, yllow shirt, baggy red pants', 'horn, umbrella'),\n",
    "    (\"Mr. Hobo\", 'BG Circus', 'M, cigar, black hair, tiny hat', 'violin'),\n",
    "    (\"Clarabelle\", \"Belmont Senior Center\", \"F, pink hair, huge flower, blue dress\", \"yelling, dancing\"),\n",
    "    (\"Scooter\", \"Oakland Hospital\", \"M, blue hair, red suit, huge nose\", \"ballons\"),\n",
    "    (\"Zippo\", \"Millston Mall\", \"F, orange suit, baggy pants\", \"dancing\"),\n",
    "    (\"Babe\", \"Earl's Autos\", \"F, all pink and sparkly\", \"balancing, little car\"),\n",
    "    (\"Bonzo\", None, \"M, in drag, polka dotted dress\", \"singing, dancing\"),\n",
    "    (\"Sniffles\", \"Tracy's\", \"M, green and purple suit, pointy nose\", None)\n",
    "]"
   ]
  },
  {
   "cell_type": "code",
   "execution_count": 13,
   "metadata": {
    "collapsed": false
   },
   "outputs": [
    {
     "name": "stdout",
     "output_type": "stream",
     "text": [
      "('Elsie', 'Cherry Hill Senior Center', 'F, red hair, green dress, huge feet', 'ballons, little car')\n",
      "('Pickles', \"Jack Green's party\", 'M, orange hair, blue suit, huge feet', 'mime')\n",
      "('Snuggles', 'Ball-Mart', 'F, yllow shirt, baggy red pants', 'horn, umbrella')\n",
      "('Mr. Hobo', 'BG Circus', 'M, cigar, black hair, tiny hat', 'violin')\n",
      "('Clarabelle', 'Belmont Senior Center', 'F, pink hair, huge flower, blue dress', 'yelling, dancing')\n",
      "('Scooter', 'Oakland Hospital', 'M, blue hair, red suit, huge nose', 'ballons')\n",
      "('Zippo', 'Millston Mall', 'F, orange suit, baggy pants', 'dancing')\n",
      "('Babe', \"Earl's Autos\", 'F, all pink and sparkly', 'balancing, little car')\n",
      "('Bonzo', None, 'M, in drag, polka dotted dress', 'singing, dancing')\n",
      "('Sniffles', \"Tracy's\", 'M, green and purple suit, pointy nose', None)\n"
     ]
    }
   ],
   "source": [
    "with conn:\n",
    "    c = conn.cursor()\n",
    "    c.executemany(\n",
    "    \"\"\"\n",
    "    INSERT INTO clown_info\n",
    "    VALUES (?, ?, ?, ?)\n",
    "    \"\"\", data)\n",
    "    conn.commit()\n",
    "    c.execute(\n",
    "    \"\"\"\n",
    "    SELECT * FROM clown_info\n",
    "    \"\"\")\n",
    "    for row in c.fetchall():\n",
    "        print(row)"
   ]
  },
  {
   "cell_type": "code",
   "execution_count": 5,
   "metadata": {
    "collapsed": false
   },
   "outputs": [
    {
     "name": "stdout",
     "output_type": "stream",
     "text": [
      "('Bonzo', None, 'M, in drag, polka dotted dress', 'singing, dancing')\n",
      "('Sniffles', \"Tracy's\", 'M, green and purple suit, pointy nose', None)\n"
     ]
    }
   ],
   "source": [
    "c.execute(\n",
    "\"\"\"\n",
    "SELECT * FROM clown_info\n",
    "WHERE last_seen IS NULL\n",
    "OR activities IS NULL\n",
    "\"\"\")\n",
    "for row in c.fetchall():\n",
    "    print(row)"
   ]
  },
  {
   "cell_type": "code",
   "execution_count": 6,
   "metadata": {
    "collapsed": false
   },
   "outputs": [
    {
     "name": "stdout",
     "output_type": "stream",
     "text": [
      "('Elsie', 'Cherry Hill Senior Center', 'F, red hair, green dress, huge feet', 'ballons, little car')\n",
      "('Pickles', \"Jack Green's party\", 'M, orange hair, blue suit, huge feet', 'mime')\n",
      "('Snuggles', 'Ball-Mart', 'F, yllow shirt, baggy red pants', 'horn, umbrella')\n",
      "('Mr. Hobo', 'BG Circus', 'M, cigar, black hair, tiny hat', 'violin')\n",
      "('Clarabelle', 'Belmont Senior Center', 'F, pink hair, huge flower, blue dress', 'yelling, dancing')\n",
      "('Scooter', 'Oakland Hospital', 'M, blue hair, red suit, huge nose', 'ballons')\n",
      "('Babe', \"Earl's Autos\", 'F, all pink and sparkly', 'balancing, little car')\n",
      "('Bonzo', None, 'M, in drag, polka dotted dress', 'singing, dancing')\n",
      "('Sniffles', \"Tracy's\", 'M, green and purple suit, pointy nose', None)\n"
     ]
    }
   ],
   "source": [
    "with conn:\n",
    "    c = conn.cursor()\n",
    "    c.execute(\n",
    "    \"\"\"\n",
    "    DELETE FROM clown_info\n",
    "    WHERE activities = 'dancing';\n",
    "    \"\"\")\n",
    "    conn.commit()\n",
    "    c.execute(\n",
    "    \"\"\"\n",
    "    SELECT * FROM clown_info;\n",
    "    \"\"\")\n",
    "    for row in c.fetchall():\n",
    "        print(row) # Note that Zippo is gone."
   ]
  },
  {
   "cell_type": "code",
   "execution_count": 3,
   "metadata": {
    "collapsed": false
   },
   "outputs": [],
   "source": [
    "conn.close()\n",
    "conn = sqlite3.connect(\"drinks.db\")"
   ]
  },
  {
   "cell_type": "code",
   "execution_count": 4,
   "metadata": {
    "collapsed": true
   },
   "outputs": [],
   "source": [
    "from tools import *"
   ]
  },
  {
   "cell_type": "code",
   "execution_count": 5,
   "metadata": {
    "collapsed": false
   },
   "outputs": [
    {
     "name": "stdout",
     "output_type": "stream",
     "text": [
      "No such table in the database:  max() arg is an empty sequence\n"
     ]
    }
   ],
   "source": [
    "res = table_info(conn, \"drinks_info\")"
   ]
  },
  {
   "cell_type": "code",
   "execution_count": 6,
   "metadata": {
    "collapsed": false
   },
   "outputs": [
    {
     "data": {
      "text/plain": [
       "(1, None)"
      ]
     },
     "execution_count": 6,
     "metadata": {},
     "output_type": "execute_result"
    }
   ],
   "source": [
    "res"
   ]
  },
  {
   "cell_type": "code",
   "execution_count": 7,
   "metadata": {
    "collapsed": false
   },
   "outputs": [
    {
     "name": "stdout",
     "output_type": "stream",
     "text": [
      "+------------+--------------+----------+----------+---------+-------+\n",
      "|Column      |Type          |Not NULL  |Key       |Default  |Extra  |\n",
      "+------------+--------------+----------+----------+---------+-------+\n",
      "|drink_name  |VARCHAR(30)   |1         |0         |None     |0      |\n",
      "|cost        |DEC(2,2)      |1         |1         |None     |0      |\n",
      "|carbs       |DEC(3, 2)     |0         |2         |None     |0      |\n",
      "|color       |VARCHAR(30)   |0         |3         |None     |0      |\n",
      "|ice         |CHAR(1)       |0         |4         |None     |0      |\n",
      "|colories    |DEC(4, 2)     |0         |5         |None     |0      |\n",
      "+------------+--------------+----------+----------+---------+-------+\n"
     ]
    }
   ],
   "source": [
    "status, colnames = table_info(conn, \"drink_info\")"
   ]
  },
  {
   "cell_type": "code",
   "execution_count": 8,
   "metadata": {
    "collapsed": false
   },
   "outputs": [
    {
     "data": {
      "text/plain": [
       "['drink_name', 'cost', 'carbs', 'color', 'ice', 'colories']"
      ]
     },
     "execution_count": 8,
     "metadata": {},
     "output_type": "execute_result"
    }
   ],
   "source": [
    "status; colnames"
   ]
  },
  {
   "cell_type": "code",
   "execution_count": 11,
   "metadata": {
    "collapsed": false
   },
   "outputs": [
    {
     "name": "stdout",
     "output_type": "stream",
     "text": [
      "+------------------+------------+-------------+-------------+-----------+----------------+\n",
      "|drink_name        |cost        |carbs        |color        |ice        |colories        |\n",
      "+------------------+------------+-------------+-------------+-----------+----------------+\n",
      "|Blackthorn        |3           |8.4          |yellow       |Y          |33              |\n",
      "|Blue Moon         |2.5         |3.2          |blue         |Y          |12              |\n",
      "|Oh My Gosh        |3.5         |8.6          |orange       |Y          |35              |\n",
      "|Lime Fizz         |2.5         |5.4          |green        |Y          |24              |\n",
      "|Kiss on the Lips  |5.5         |42.5         |purple       |Y          |171             |\n",
      "|Hot Gold          |3.2         |32.1         |orange       |N          |135             |\n",
      "|Lone Tree         |3.6         |4.2          |red          |Y          |50              |\n",
      "|Greyhound         |4           |14           |yellow       |Y          |50              |\n",
      "|Indian Summer     |2.8         |7.2          |brown        |N          |30              |\n",
      "|Bull Frog         |2.6         |21.5         |tan          |Y          |80              |\n",
      "|Soda and It       |3.8         |4.7          |red          |N          |19              |\n",
      "+------------------+------------+-------------+-------------+-----------+----------------+\n"
     ]
    }
   ],
   "source": [
    "show(conn, \"SELECT * FROM drink_info\")"
   ]
  },
  {
   "cell_type": "code",
   "execution_count": 12,
   "metadata": {
    "collapsed": false
   },
   "outputs": [
    {
     "name": "stdout",
     "output_type": "stream",
     "text": [
      "+------------------+------------+\n",
      "|drink_name        |cost        |\n",
      "+------------------+------------+\n",
      "|Blackthorn        |3           |\n",
      "|Blue Moon         |2.5         |\n",
      "|Oh My Gosh        |3.5         |\n",
      "|Lime Fizz         |2.5         |\n",
      "|Kiss on the Lips  |5.5         |\n",
      "|Hot Gold          |3.2         |\n",
      "|Lone Tree         |3.6         |\n",
      "|Greyhound         |4           |\n",
      "|Indian Summer     |2.8         |\n",
      "|Bull Frog         |2.6         |\n",
      "|Soda and It       |3.8         |\n",
      "+------------------+------------+\n"
     ]
    }
   ],
   "source": [
    "show(conn, \"SELECT drink_name, cost FROM drink_info\")"
   ]
  },
  {
   "cell_type": "code",
   "execution_count": 13,
   "metadata": {
    "collapsed": true
   },
   "outputs": [],
   "source": [
    "conn = sqlite3.connect(\"clown.sql\")"
   ]
  },
  {
   "cell_type": "code",
   "execution_count": 14,
   "metadata": {
    "collapsed": false
   },
   "outputs": [
    {
     "name": "stdout",
     "output_type": "stream",
     "text": [
      "+------------+--------------+----------+----------+---------+-------+\n",
      "|Column      |Type          |Not NULL  |Key       |Default  |Extra  |\n",
      "+------------+--------------+----------+----------+---------+-------+\n",
      "|name        |VARCHAR(20)   |1         |0         |None     |0      |\n",
      "|last_seen   |VARCHAR(50)   |0         |1         |None     |0      |\n",
      "|appearance  |VARCHAR(50)   |0         |2         |None     |0      |\n",
      "|activities  |VARCHAR(30)   |0         |3         |None     |0      |\n",
      "+------------+--------------+----------+----------+---------+-------+\n"
     ]
    },
    {
     "data": {
      "text/plain": [
       "(0, ['name', 'last_seen', 'appearance', 'activities'])"
      ]
     },
     "execution_count": 14,
     "metadata": {},
     "output_type": "execute_result"
    }
   ],
   "source": [
    "table_info(conn, 'clown_info')"
   ]
  },
  {
   "cell_type": "code",
   "execution_count": 17,
   "metadata": {
    "collapsed": false
   },
   "outputs": [
    {
     "name": "stdout",
     "output_type": "stream",
     "text": [
      "('Elsie', 'Cherry Hill Senior Center', 'F, red hair, green dress, huge feet', 'ballons, little car')\n",
      "('Pickles', \"Jack Green's party\", 'M, orange hair, blue suit, huge feet', 'mime')\n",
      "('Snuggles', 'Ball-Mart', 'F, yllow shirt, baggy red pants', 'horn, umbrella')\n",
      "('Mr. Hobo', \"Tracy's\", 'M, cigar, black hair, tiny hat', 'violin')\n",
      "('Clarabelle', 'Belmont Senior Center', 'F, pink hair, huge flower, blue dress', 'yelling, dancing')\n",
      "('Scooter', 'Oakland Hospital', 'M, blue hair, red suit, huge nose', 'ballons')\n",
      "('Babe', \"Earl's Autos\", 'F, all pink and sparkly', 'balancing, little car')\n",
      "('Bonzo', None, 'M, in drag, polka dotted dress', 'singing, dancing')\n",
      "('Sniffles', \"Tracy's\", 'M, green and purple suit, pointy nose', None)\n"
     ]
    }
   ],
   "source": [
    "with conn:\n",
    "    c = conn.cursor()\n",
    "    c.execute(\n",
    "    \"\"\"\n",
    "    UPDATE clown_info\n",
    "    SET last_seen = 'Tracy''s'\n",
    "    WHERE name = 'Mr. Hobo'\n",
    "    AND last_seen = 'BG Circus'\n",
    "    \"\"\"\n",
    "    )\n",
    "    conn.commit()\n",
    "    c.execute(\n",
    "    \"\"\"\n",
    "    SELECT * FROM clown_info\n",
    "    \"\"\"\n",
    "    )\n",
    "    for row in c.fetchall():\n",
    "        print(row)"
   ]
  },
  {
   "cell_type": "code",
   "execution_count": 18,
   "metadata": {
    "collapsed": true
   },
   "outputs": [],
   "source": [
    "conn = sqlite3.connect(\"drinks.db\")"
   ]
  },
  {
   "cell_type": "code",
   "execution_count": 19,
   "metadata": {
    "collapsed": false
   },
   "outputs": [
    {
     "name": "stdout",
     "output_type": "stream",
     "text": [
      "+------------------+------------+-------------+-------------+-----------+----------------+\n",
      "|drink_name        |cost        |carbs        |color        |ice        |colories        |\n",
      "+------------------+------------+-------------+-------------+-----------+----------------+\n",
      "|Blackthorn        |3           |8.4          |yellow       |Y          |33              |\n",
      "|Blue Moon         |2.5         |3.2          |blue         |Y          |12              |\n",
      "|Oh My Gosh        |3.5         |8.6          |orange       |Y          |35              |\n",
      "|Lime Fizz         |2.5         |5.4          |green        |Y          |24              |\n",
      "|Kiss on the Lips  |5.5         |42.5         |purple       |Y          |171             |\n",
      "|Hot Gold          |3.2         |32.1         |orange       |N          |135             |\n",
      "|Lone Tree         |3.6         |4.2          |red          |Y          |50              |\n",
      "|Greyhound         |4           |14           |yellow       |Y          |50              |\n",
      "|Indian Summer     |2.8         |7.2          |brown        |N          |30              |\n",
      "|Bull Frog         |2.6         |21.5         |tan          |Y          |80              |\n",
      "|Soda and It       |3.8         |4.7          |red          |N          |19              |\n",
      "+------------------+------------+-------------+-------------+-----------+----------------+\n"
     ]
    }
   ],
   "source": [
    "show(conn, \"SELECT * FROM drink_info\")"
   ]
  },
  {
   "cell_type": "code",
   "execution_count": 29,
   "metadata": {
    "collapsed": true
   },
   "outputs": [],
   "source": [
    "with conn:\n",
    "    c = conn.cursor()\n",
    "    c.execute(\n",
    "    \"\"\"\n",
    "    UPDATE drink_info\n",
    "    SET cost = cost + 1\n",
    "    WHERE\n",
    "    drink_name = 'Blue Moon'\n",
    "    OR\n",
    "    drink_name = 'Oh My Gosh'\n",
    "    OR\n",
    "    drink_name = 'Lime Fizz'\n",
    "    \"\"\")"
   ]
  },
  {
   "cell_type": "code",
   "execution_count": 30,
   "metadata": {
    "collapsed": false
   },
   "outputs": [
    {
     "name": "stdout",
     "output_type": "stream",
     "text": [
      "+------------------+------------+-------------+-------------+-----------+----------------+\n",
      "|drink_name        |cost        |carbs        |color        |ice        |colories        |\n",
      "+------------------+------------+-------------+-------------+-----------+----------------+\n",
      "|Blackthorn        |3           |8.4          |yellow       |Y          |33              |\n",
      "|Blue Moon         |3.5         |3.2          |blue         |Y          |12              |\n",
      "|Oh My Gosh        |4.5         |8.6          |orange       |Y          |35              |\n",
      "|Lime Fizz         |3.5         |5.4          |green        |Y          |24              |\n",
      "|Kiss on the Lips  |5.5         |42.5         |purple       |Y          |171             |\n",
      "|Hot Gold          |3.2         |32.1         |orange       |N          |135             |\n",
      "|Lone Tree         |3.6         |4.2          |red          |Y          |50              |\n",
      "|Greyhound         |4           |14           |yellow       |Y          |50              |\n",
      "|Indian Summer     |2.8         |7.2          |brown        |N          |30              |\n",
      "|Bull Frog         |2.6         |21.5         |tan          |Y          |80              |\n",
      "|Soda and It       |3.8         |4.7          |red          |N          |19              |\n",
      "+------------------+------------+-------------+-------------+-----------+----------------+\n"
     ]
    }
   ],
   "source": [
    "show(conn, \"SELECT * FROM drink_info\")"
   ]
  },
  {
   "cell_type": "code",
   "execution_count": null,
   "metadata": {
    "collapsed": true
   },
   "outputs": [],
   "source": []
  }
 ],
 "metadata": {
  "kernelspec": {
   "display_name": "Python 3",
   "language": "python",
   "name": "python3"
  },
  "language_info": {
   "codemirror_mode": {
    "name": "ipython",
    "version": 3
   },
   "file_extension": ".py",
   "mimetype": "text/x-python",
   "name": "python",
   "nbconvert_exporter": "python",
   "pygments_lexer": "ipython3",
   "version": "3.4.1"
  }
 },
 "nbformat": 4,
 "nbformat_minor": 0
}
